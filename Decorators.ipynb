{
 "cells": [
  {
   "cell_type": "code",
   "execution_count": 35,
   "metadata": {},
   "outputs": [],
   "source": [
    "def memoize(func):\n",
    "    \"\"\"Store the results of the decorated function for faster lookup\"\"\"\n",
    "    # Store results in a dict that maps variable arguments to results of decorated function\n",
    "    cache = {}\n",
    "    # Define the wrapper function to return\n",
    "    def wrapper(*args, **kwargs):\n",
    "        #Check if arguments seen before by looking up in \"cache\" dict\n",
    "        if (args, kwargs) not in cache:\n",
    "            #Call func() and store the results for next time\n",
    "            cache[(args,kwargs)] = func(*args, **kwargs)\n",
    "        return cache[(args,kwargs)]\n",
    "    return wrapper"
   ]
  },
  {
   "cell_type": "code",
   "execution_count": 36,
   "metadata": {},
   "outputs": [],
   "source": [
    "def print_return_type(func):\n",
    "  # Define wrapper(), the decorated function\n",
    "  def wrapper(*args, **kwargs):\n",
    "    # Call the function being decorated\n",
    "    result = func(*args, **kwargs)\n",
    "    print('{}() returned type {}'.format(\n",
    "      func.__name__, type(result)\n",
    "    ))\n",
    "    return result\n",
    "  # Return the decorated function\n",
    "  return wrapper"
   ]
  },
  {
   "cell_type": "code",
   "execution_count": null,
   "metadata": {},
   "outputs": [],
   "source": [
    "def counter(func):\n",
    "  def wrapper(*args, **kwargs):\n",
    "    wrapper.count += 1\n",
    "    # Call the function being decorated and return the result\n",
    "    return func(*args, **kwargs)\n",
    "  wrapper.count = 0\n",
    "  # Return the new decorated function\n",
    "  return wrapper"
   ]
  },
  {
   "cell_type": "code",
   "execution_count": null,
   "metadata": {},
   "outputs": [],
   "source": [
    "  # Define a new decorator, named \"decorator\", to return\n",
    "  def decorator(func):\n",
    "    # Ensure the decorated function keeps its metadata\n",
    "    @wraps(func)\n",
    "    def wrapper(*args, **kwargs):\n",
    "      # Call the function being decorated and return the result\n",
    "      return func(*args, **kwargs)\n",
    "    wrapper.tags = tags\n",
    "    return wrapper\n",
    "  # Return the new decorator\n",
    "  return decorator\n",
    "\n",
    "@tag('test', 'this is a tag')\n",
    "def foo():\n",
    "  pass\n",
    "\n",
    "print(foo.tags)"
   ]
  },
  {
   "cell_type": "code",
   "execution_count": null,
   "metadata": {},
   "outputs": [],
   "source": [
    "def returns(return_type):\n",
    "  # Complete the returns() decorator\n",
    "  def decorator(func):\n",
    "    def wrapper(*args, **kwargs):\n",
    "      result = func(*args, **kwargs)\n",
    "      assert(type(result) == return_type)\n",
    "      return result\n",
    "    return wrapper\n",
    "  return decorator\n",
    "  \n",
    "@returns(dict)\n",
    "def foo(value):\n",
    "  return value\n",
    "\n",
    "try:\n",
    "  print(foo([1,2,3]))\n",
    "except AssertionError:\n",
    "  print('foo() did not return a dict!')"
   ]
  },
  {
   "cell_type": "code",
   "execution_count": 51,
   "metadata": {},
   "outputs": [
    {
     "name": "stdout",
     "output_type": "stream",
     "text": [
      "Enter your name: Kip\n",
      "Hello Kip\n"
     ]
    }
   ],
   "source": [
    "def main():\n",
    "    \"\"\" Main Doc string\"\"\"\n",
    "    def build_message(name):\n",
    "\n",
    "        msg = f'Hello {name}'\n",
    "        return msg\n",
    "\n",
    "    name = input(\"Enter your name: \")\n",
    "    msg = build_message(name)\n",
    "\n",
    "    print(msg)\n",
    "\n",
    "\n",
    "if __name__ == \"__main__\":\n",
    "    main()"
   ]
  },
  {
   "cell_type": "code",
   "execution_count": 52,
   "metadata": {},
   "outputs": [
    {
     "name": "stdout",
     "output_type": "stream",
     "text": [
      "Enter your name: j\n",
      "Hello j\n"
     ]
    }
   ],
   "source": [
    "main().__doc__"
   ]
  },
  {
   "cell_type": "code",
   "execution_count": 63,
   "metadata": {},
   "outputs": [
    {
     "name": "stdout",
     "output_type": "stream",
     "text": [
      "foo1 initiated\n",
      "foo1 called\n",
      "id of a: 140728565736144\n",
      "x: 10\n",
      "y: 11\n",
      "id of x: 140728565736112\n",
      "id of y: 140728565736144\n",
      "foo1 called\n",
      "id of a: 140728565736176\n",
      "x2: 10\n",
      "y2: 12\n",
      "id of x2: 140728565736112\n",
      "id of y2: 140728565736176\n"
     ]
    }
   ],
   "source": [
    "def foo1(a):\n",
    "    # function block\n",
    "    print('foo1 called')\n",
    "    a += 1\n",
    "    print('id of a:', id(a))  # id of y and a are same\n",
    "    return a\n",
    "print('foo1 initiated')\n",
    "\n",
    "# main or caller block\n",
    "x = 10\n",
    "y = foo1(x)\n",
    "\n",
    "# value of x is unchanged\n",
    "print('x:', x)\n",
    "\n",
    "# value of y is the return value of the function foo1\n",
    "# after adding 1 to argument 'a' which is actual variable 'x'\n",
    "print('y:', y)\n",
    "\n",
    "print('id of x:', id(x))    # id of x\n",
    "print('id of y:', id(y))    # id of y, different from x\n",
    "\n",
    "y = foo1(y)\n",
    "\n",
    "# value of x is unchanged\n",
    "print('x2:', x)\n",
    "\n",
    "# value of y is the return value of the function foo1\n",
    "# after adding 1 to argument 'a' which is actual variable 'x'\n",
    "print('y2:', y)\n",
    "\n",
    "print('id of x2:', id(x))    # id of x\n",
    "print('id of y2:', id(y))    # id of y, different from x"
   ]
  },
  {
   "cell_type": "code",
   "execution_count": 65,
   "metadata": {},
   "outputs": [
    {
     "name": "stdout",
     "output_type": "stream",
     "text": [
      "original list: [10, 20]\n",
      "list1 id: 1988882790280\n",
      "value of list2: [10, 20]\n",
      "list2 id: 1988882790280\n",
      "\n",
      "after foo2(): [10, 20, 30]\n",
      "list1 id: 1988882790280\n",
      "value of list2: [10, 20, 30]\n",
      "list2 id: 1988882790280\n",
      "\n",
      "after foo3(): [10, 30]\n",
      "list1 id: 1988882790280\n",
      "value of list2: [10, 30]\n",
      "list2 id: 1988882790280\n",
      "\n",
      "after foo4(): [100, 30]\n",
      "list1 id: 1988882790280\n",
      "value of list2: [100, 30]\n",
      "list2 id: 1988882790280\n"
     ]
    }
   ],
   "source": [
    "def foo2(func_list):\n",
    "    # function block\n",
    "    func_list.append(30)  # append an element\n",
    "\n",
    "def foo3(func_list):\n",
    "    # function block    \n",
    "    del func_list[1]  # delete 2nd element\n",
    "\n",
    "def foo4(func_list):\n",
    "    # function block    \n",
    "    func_list[0] = 100  # change value of 1st element\n",
    "\n",
    "# main or caller block\n",
    "list1 = [10, 20]\n",
    "list2 = list1   # list1 and list2 point to same list object\n",
    "\n",
    "print('original list:', list1)\n",
    "print('list1 id:', id(list1))\n",
    "\n",
    "print('value of list2:', list2)\n",
    "print('list2 id:', id(list2))\n",
    "\n",
    "foo2(list1)\n",
    "print('\\nafter foo2():', list1)\n",
    "print('list1 id:', id(list1))\n",
    "\n",
    "print('value of list2:', list2)\n",
    "print('list2 id:', id(list2))\n",
    "\n",
    "foo3(list1)\n",
    "print('\\nafter foo3():', list1)\n",
    "print('list1 id:', id(list1))\n",
    "\n",
    "print('value of list2:', list2)\n",
    "print('list2 id:', id(list2))\n",
    "\n",
    "foo4(list2)\n",
    "print('\\nafter foo4():', list1)\n",
    "print('list1 id:', id(list1))\n",
    "\n",
    "print('value of list2:', list2)\n",
    "print('list2 id:', id(list2))"
   ]
  },
  {
   "cell_type": "code",
   "execution_count": null,
   "metadata": {},
   "outputs": [],
   "source": []
  }
 ],
 "metadata": {
  "kernelspec": {
   "display_name": "Python 3",
   "language": "python",
   "name": "python3"
  },
  "language_info": {
   "codemirror_mode": {
    "name": "ipython",
    "version": 3
   },
   "file_extension": ".py",
   "mimetype": "text/x-python",
   "name": "python",
   "nbconvert_exporter": "python",
   "pygments_lexer": "ipython3",
   "version": "3.7.9"
  }
 },
 "nbformat": 4,
 "nbformat_minor": 4
}
