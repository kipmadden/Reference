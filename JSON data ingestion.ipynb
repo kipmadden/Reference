{
 "cells": [
  {
   "cell_type": "markdown",
   "metadata": {},
   "source": [
    "## Getting data from a JSON ingestion example from DataCamp exercises\n",
    "\n",
    "From the 'Streamlined Data Ingestion with pandas' course found [here](https://learn.datacamp.com/courses/streamlined-data-ingestion-with-pandas)"
   ]
  },
  {
   "cell_type": "markdown",
   "metadata": {},
   "source": [
    "## API usage"
   ]
  },
  {
   "cell_type": "markdown",
   "metadata": {},
   "source": [
    "### Making Requests"
   ]
  },
  {
   "cell_type": "code",
   "execution_count": 1,
   "metadata": {},
   "outputs": [],
   "source": [
    "# Import dependencies\n",
    "import requests\n",
    "import pandas as pd\n",
    "from pandas import json_normalize\n",
    "from config import api_key"
   ]
  },
  {
   "cell_type": "code",
   "execution_count": 2,
   "metadata": {},
   "outputs": [],
   "source": [
    "# Use Yelp API endpoint\n",
    "api_url = \"https://api.yelp.com/v3/businesses/search\""
   ]
  },
  {
   "cell_type": "code",
   "execution_count": 3,
   "metadata": {},
   "outputs": [],
   "source": [
    "# Set up parameter dictionary according to documentation\n",
    "params = {\"term\": \"bookstore\",\n",
    "         \"location\":\"San Francisco\"}"
   ]
  },
  {
   "cell_type": "code",
   "execution_count": 4,
   "metadata": {},
   "outputs": [],
   "source": [
    "# Set up header dictionary w / API key according to documentation\n",
    "headers = {\"Authorization\": \"Bearer {}\".format(api_key)}"
   ]
  },
  {
   "cell_type": "code",
   "execution_count": 5,
   "metadata": {},
   "outputs": [],
   "source": [
    "# Call the API\n",
    "response = requests.get(api_url,\n",
    "                       params=params,\n",
    "                       headers=headers)"
   ]
  },
  {
   "cell_type": "code",
   "execution_count": 6,
   "metadata": {
    "scrolled": false
   },
   "outputs": [
    {
     "name": "stdout",
     "output_type": "stream",
     "text": [
      "{'businesses': [{'id': '_rbF2ooLcMRA7Kh8neIr4g', 'alias': 'city-lights-booksellers-and-publishers-san-francisco', 'name': 'City Lights Booksellers & Publishers', 'image_url': 'https://s3-media4.fl.yelpcdn.com/bphoto/Y8uqLxY9EOsFlLj_5250cg/o.jpg', 'is_closed': False, 'url': 'https://www.yelp.com/biz/city-lights-booksellers-and-publishers-san-francisco?adjust_creative=KT4y0mDx-kz9YKQ__AiT2A&utm_campaign=yelp_api_v3&utm_medium=api_v3_business_search&utm_source=KT4y0mDx-kz9YKQ__AiT2A', 'review_count': 701, 'categories': [{'alias': 'bookstores', 'title': 'Bookstores'}], 'rating': 4.5, 'coordinates': {'latitude': 37.7975997924805, 'longitude': -122.406578063965}, 'transactions': [], 'price': '$$', 'location': {'address1': '261 Columbus Ave', 'address2': '', 'address3': '', 'city': 'San Francisco', 'zip_code': '94133', 'country': 'US', 'state': 'CA', 'display_address': ['261 Columbus Ave', 'San Francisco, CA 94133']}, 'phone': '+14153628193', 'display_phone': '(415) 362-8193', 'distance': 4851.8241078398705}, {'id': 'ngUUOEyCHdLkGnO1I5M4Vg', 'alias': 'green-apple-books-san-francisco', 'name': 'Green Apple Books', 'image_url': 'https://s3-media1.fl.yelpcdn.com/bphoto/49i9ezgZi9_SiSfDVH-T6g/o.jpg', 'is_closed': False, 'url': 'https://www.yelp.com/biz/green-apple-books-san-francisco?adjust_creative=KT4y0mDx-kz9YKQ__AiT2A&utm_campaign=yelp_api_v3&utm_medium=api_v3_business_search&utm_source=KT4y0mDx-kz9YKQ__AiT2A', 'review_count': 1335, 'categories': [{'alias': 'musicvideo', 'title': 'Music & DVDs'}, {'alias': 'bookstores', 'title': 'Bookstores'}], 'rating': 4.5, 'coordinates': {'latitude': 37.783391, 'longitude': -122.464596}, 'transactions': [], 'price': '$$', 'location': {'address1': '506 Clement St', 'address2': 'at 6th Avenue', 'address3': '', 'city': 'San Francisco', 'zip_code': '94118', 'country': 'US', 'state': 'CA', 'display_address': ['506 Clement St', 'at 6th Avenue', 'San Francisco, CA 94118']}, 'phone': '+14153872272', 'display_phone': '(415) 387-2272', 'distance': 3517.958892903866}, {'id': '4BI1hK0tQZwQWino8olmTQ', 'alias': 'alexander-book-san-francisco', 'name': 'Alexander Book', 'image_url': 'https://s3-media2.fl.yelpcdn.com/bphoto/Uf_q5TPobaUzXXpZ65lvhw/o.jpg', 'is_closed': False, 'url': 'https://www.yelp.com/biz/alexander-book-san-francisco?adjust_creative=KT4y0mDx-kz9YKQ__AiT2A&utm_campaign=yelp_api_v3&utm_medium=api_v3_business_search&utm_source=KT4y0mDx-kz9YKQ__AiT2A', 'review_count': 196, 'categories': [{'alias': 'bookstores', 'title': 'Bookstores'}, {'alias': 'stationery', 'title': 'Cards & Stationery'}], 'rating': 4.5, 'coordinates': {'latitude': 37.78859, 'longitude': -122.4007332}, 'transactions': [], 'price': '$$', 'location': {'address1': '50 2nd St', 'address2': '', 'address3': '', 'city': 'San Francisco', 'zip_code': '94105', 'country': 'US', 'state': 'CA', 'display_address': ['50 2nd St', 'San Francisco, CA 94105']}, 'phone': '+14154952992', 'display_phone': '(415) 495-2992', 'distance': 4396.988163912506}, {'id': 'N9c6fjIX7jcuAdWZ6Rj4ZQ', 'alias': 'the-booksmith-san-francisco', 'name': 'The Booksmith', 'image_url': 'https://s3-media1.fl.yelpcdn.com/bphoto/_7XYRbjcN6Ur6fsqnFo06Q/o.jpg', 'is_closed': False, 'url': 'https://www.yelp.com/biz/the-booksmith-san-francisco?adjust_creative=KT4y0mDx-kz9YKQ__AiT2A&utm_campaign=yelp_api_v3&utm_medium=api_v3_business_search&utm_source=KT4y0mDx-kz9YKQ__AiT2A', 'review_count': 252, 'categories': [{'alias': 'bookstores', 'title': 'Bookstores'}, {'alias': 'mags', 'title': 'Newspapers & Magazines'}], 'rating': 4.5, 'coordinates': {'latitude': 37.76931, 'longitude': -122.4512485}, 'transactions': [], 'price': '$$', 'location': {'address1': '1727 Haight St', 'address2': '', 'address3': '', 'city': 'San Francisco', 'zip_code': '94117', 'country': 'US', 'state': 'CA', 'display_address': ['1727 Haight St', 'San Francisco, CA 94117']}, 'phone': '+14158638688', 'display_phone': '(415) 863-8688', 'distance': 1602.3212252688702}, {'id': 'sdIatTFoAAPg8MZHCbrADg', 'alias': 'bookshop-west-portal-san-francisco', 'name': 'Bookshop West Portal', 'image_url': 'https://s3-media2.fl.yelpcdn.com/bphoto/lwsAqfBrue91Qwh7JD_lIA/o.jpg', 'is_closed': False, 'url': 'https://www.yelp.com/biz/bookshop-west-portal-san-francisco?adjust_creative=KT4y0mDx-kz9YKQ__AiT2A&utm_campaign=yelp_api_v3&utm_medium=api_v3_business_search&utm_source=KT4y0mDx-kz9YKQ__AiT2A', 'review_count': 122, 'categories': [{'alias': 'bookstores', 'title': 'Bookstores'}], 'rating': 4.5, 'coordinates': {'latitude': 37.74015, 'longitude': -122.46696}, 'transactions': [], 'price': '$$', 'location': {'address1': '80 West Portal Ave', 'address2': None, 'address3': '', 'city': 'San Francisco', 'zip_code': '94127', 'country': 'US', 'state': 'CA', 'display_address': ['80 West Portal Ave', 'San Francisco, CA 94127']}, 'phone': '+14155648080', 'display_phone': '(415) 564-8080', 'distance': 3537.2507250892636}, {'id': 'Uu2yJ_LoL1nTcr3Vf2Oz6g', 'alias': 'borderlands-books-san-francisco', 'name': 'Borderlands Books', 'image_url': 'https://s3-media3.fl.yelpcdn.com/bphoto/zt8655RiofkhBd1SdRUQfg/o.jpg', 'is_closed': False, 'url': 'https://www.yelp.com/biz/borderlands-books-san-francisco?adjust_creative=KT4y0mDx-kz9YKQ__AiT2A&utm_campaign=yelp_api_v3&utm_medium=api_v3_business_search&utm_source=KT4y0mDx-kz9YKQ__AiT2A', 'review_count': 206, 'categories': [{'alias': 'bookstores', 'title': 'Bookstores'}], 'rating': 5.0, 'coordinates': {'latitude': 37.7589836120605, 'longitude': -122.42163848877}, 'transactions': [], 'price': '$$', 'location': {'address1': '866 Valencia St', 'address2': '', 'address3': '', 'city': 'San Francisco', 'zip_code': '94110', 'country': 'US', 'state': 'CA', 'display_address': ['866 Valencia St', 'San Francisco, CA 94110']}, 'phone': '+14158248203', 'display_phone': '(415) 824-8203', 'distance': 1316.157270268853}, {'id': 'e9Vd5w1sIiPvvUznzdq_vw', 'alias': 'green-apple-books-on-the-park-san-francisco-10', 'name': 'Green Apple Books on the Park', 'image_url': 'https://s3-media4.fl.yelpcdn.com/bphoto/YgcACtDy96L2_qLZFmySiA/o.jpg', 'is_closed': False, 'url': 'https://www.yelp.com/biz/green-apple-books-on-the-park-san-francisco-10?adjust_creative=KT4y0mDx-kz9YKQ__AiT2A&utm_campaign=yelp_api_v3&utm_medium=api_v3_business_search&utm_source=KT4y0mDx-kz9YKQ__AiT2A', 'review_count': 77, 'categories': [{'alias': 'bookstores', 'title': 'Bookstores'}], 'rating': 4.5, 'coordinates': {'latitude': 37.7653559, 'longitude': -122.4667373}, 'transactions': [], 'price': '$$', 'location': {'address1': '1231 9th Ave', 'address2': '', 'address3': '', 'city': 'San Francisco', 'zip_code': '94122', 'country': 'US', 'state': 'CA', 'display_address': ['1231 9th Ave', 'San Francisco, CA 94122']}, 'phone': '+14157425833', 'display_phone': '(415) 742-5833', 'distance': 2708.374808654912}, {'id': 'KRhmAZrHc8DGxYWQEi9JsQ', 'alias': 'dog-eared-books-san-francisco', 'name': 'Dog Eared Books', 'image_url': 'https://s3-media1.fl.yelpcdn.com/bphoto/cyeO5ESwIJfpaJKGFZqFzg/o.jpg', 'is_closed': False, 'url': 'https://www.yelp.com/biz/dog-eared-books-san-francisco?adjust_creative=KT4y0mDx-kz9YKQ__AiT2A&utm_campaign=yelp_api_v3&utm_medium=api_v3_business_search&utm_source=KT4y0mDx-kz9YKQ__AiT2A', 'review_count': 266, 'categories': [{'alias': 'bookstores', 'title': 'Bookstores'}], 'rating': 4.5, 'coordinates': {'latitude': 37.7583295, 'longitude': -122.4214067}, 'transactions': [], 'price': '$', 'location': {'address1': '900 Valencia St', 'address2': '', 'address3': '', 'city': 'San Francisco', 'zip_code': '94110', 'country': 'US', 'state': 'CA', 'display_address': ['900 Valencia St', 'San Francisco, CA 94110']}, 'phone': '+14152821901', 'display_phone': '(415) 282-1901', 'distance': 1341.2733125325851}, {'id': 'yi0HpqaFFNzg14_jKABytw', 'alias': 'dog-eared-books-san-francisco-2', 'name': 'Dog Eared Books', 'image_url': 'https://s3-media3.fl.yelpcdn.com/bphoto/no2pBgfN3-rCtPz2ZkB4vw/o.jpg', 'is_closed': False, 'url': 'https://www.yelp.com/biz/dog-eared-books-san-francisco-2?adjust_creative=KT4y0mDx-kz9YKQ__AiT2A&utm_campaign=yelp_api_v3&utm_medium=api_v3_business_search&utm_source=KT4y0mDx-kz9YKQ__AiT2A', 'review_count': 32, 'categories': [{'alias': 'usedbooks', 'title': 'Used Bookstore'}, {'alias': 'bookstores', 'title': 'Bookstores'}], 'rating': 4.5, 'coordinates': {'latitude': 37.7612352054539, 'longitude': -122.434905020903}, 'transactions': [], 'price': '$$', 'location': {'address1': '489 Castro St', 'address2': '', 'address3': None, 'city': 'San Francisco', 'zip_code': '94114', 'country': 'US', 'state': 'CA', 'display_address': ['489 Castro St', 'San Francisco, CA 94114']}, 'phone': '+14156587015', 'display_phone': '(415) 658-7015', 'distance': 140.6127731862443}, {'id': '7g7upQhKEPuCnNpfmSQbBg', 'alias': 'browser-books-san-francisco', 'name': 'Browser Books', 'image_url': 'https://s3-media1.fl.yelpcdn.com/bphoto/cSueJWtt9nrW7_B4nvcCNQ/o.jpg', 'is_closed': False, 'url': 'https://www.yelp.com/biz/browser-books-san-francisco?adjust_creative=KT4y0mDx-kz9YKQ__AiT2A&utm_campaign=yelp_api_v3&utm_medium=api_v3_business_search&utm_source=KT4y0mDx-kz9YKQ__AiT2A', 'review_count': 127, 'categories': [{'alias': 'bookstores', 'title': 'Bookstores'}], 'rating': 4.0, 'coordinates': {'latitude': 37.7895899, 'longitude': -122.43428}, 'transactions': [], 'price': '$$', 'location': {'address1': '2195 Fillmore St', 'address2': '', 'address3': '', 'city': 'San Francisco', 'zip_code': '94115', 'country': 'US', 'state': 'CA', 'display_address': ['2195 Fillmore St', 'San Francisco, CA 94115']}, 'phone': '+14155678027', 'display_phone': '(415) 567-8027', 'distance': 3203.6464230637516}, {'id': 'fhWINTqLgfv53qKGtOdW_A', 'alias': 'black-bird-bookstore-san-francisco', 'name': 'Black Bird Bookstore', 'image_url': 'https://s3-media3.fl.yelpcdn.com/bphoto/DnmOqTcT-cNVSDo5A_C7-w/o.jpg', 'is_closed': False, 'url': 'https://www.yelp.com/biz/black-bird-bookstore-san-francisco?adjust_creative=KT4y0mDx-kz9YKQ__AiT2A&utm_campaign=yelp_api_v3&utm_medium=api_v3_business_search&utm_source=KT4y0mDx-kz9YKQ__AiT2A', 'review_count': 24, 'categories': [{'alias': 'bookstores', 'title': 'Bookstores'}], 'rating': 5.0, 'coordinates': {'latitude': 37.7602, 'longitude': -122.50537}, 'transactions': [], 'price': '$$', 'location': {'address1': '4033 Judah St', 'address2': '', 'address3': None, 'city': 'San Francisco', 'zip_code': '94122', 'country': 'US', 'state': 'CA', 'display_address': ['4033 Judah St', 'San Francisco, CA 94122']}, 'phone': '+14157425203', 'display_phone': '(415) 742-5203', 'distance': 6060.342322018071}, {'id': 'NwtGr3rfM8JvIFlRMy9fkw', 'alias': 'folio-books-san-francisco', 'name': 'Folio Books', 'image_url': 'https://s3-media4.fl.yelpcdn.com/bphoto/bZkNUg-L9xMoc72-d1Z5zg/o.jpg', 'is_closed': False, 'url': 'https://www.yelp.com/biz/folio-books-san-francisco?adjust_creative=KT4y0mDx-kz9YKQ__AiT2A&utm_campaign=yelp_api_v3&utm_medium=api_v3_business_search&utm_source=KT4y0mDx-kz9YKQ__AiT2A', 'review_count': 38, 'categories': [{'alias': 'bookstores', 'title': 'Bookstores'}], 'rating': 4.5, 'coordinates': {'latitude': 37.751460046845, 'longitude': -122.430842619254}, 'transactions': [], 'price': '$$', 'location': {'address1': '3957 24th St', 'address2': '', 'address3': '', 'city': 'San Francisco', 'zip_code': '94114', 'country': 'US', 'state': 'CA', 'display_address': ['3957 24th St', 'San Francisco, CA 94114']}, 'phone': '+14158213477', 'display_phone': '(415) 821-3477', 'distance': 1159.4987902263777}, {'id': 'ip8_lbJ4CRoTAFsId3dl4Q', 'alias': 'kinokuniya-bookstore-san-francisco-san-francisco-3', 'name': 'Kinokuniya Bookstore - San Francisco', 'image_url': 'https://s3-media3.fl.yelpcdn.com/bphoto/LuIK28lr0CRRpxgiucLH1A/o.jpg', 'is_closed': False, 'url': 'https://www.yelp.com/biz/kinokuniya-bookstore-san-francisco-san-francisco-3?adjust_creative=KT4y0mDx-kz9YKQ__AiT2A&utm_campaign=yelp_api_v3&utm_medium=api_v3_business_search&utm_source=KT4y0mDx-kz9YKQ__AiT2A', 'review_count': 476, 'categories': [{'alias': 'bookstores', 'title': 'Bookstores'}, {'alias': 'giftshops', 'title': 'Gift Shops'}, {'alias': 'stationery', 'title': 'Cards & Stationery'}], 'rating': 4.5, 'coordinates': {'latitude': 37.78488, 'longitude': -122.431595}, 'transactions': [], 'price': '$$', 'location': {'address1': '1581 Webster St', 'address2': '', 'address3': '', 'city': 'San Francisco', 'zip_code': '94115', 'country': 'US', 'state': 'CA', 'display_address': ['1581 Webster St', 'San Francisco, CA 94115']}, 'phone': '+14155677625', 'display_phone': '(415) 567-7625', 'distance': 2700.407851180178}, {'id': 'ONlTAHW_GRciDi40wp5EVg', 'alias': 'alley-cat-books-san-francisco', 'name': 'Alley Cat Books', 'image_url': 'https://s3-media2.fl.yelpcdn.com/bphoto/Rc4CIu-OsM5Zng5ocKlzkQ/o.jpg', 'is_closed': False, 'url': 'https://www.yelp.com/biz/alley-cat-books-san-francisco?adjust_creative=KT4y0mDx-kz9YKQ__AiT2A&utm_campaign=yelp_api_v3&utm_medium=api_v3_business_search&utm_source=KT4y0mDx-kz9YKQ__AiT2A', 'review_count': 63, 'categories': [{'alias': 'bookstores', 'title': 'Bookstores'}], 'rating': 4.5, 'coordinates': {'latitude': 37.752814, 'longitude': -122.412687}, 'transactions': [], 'price': '$', 'location': {'address1': '3036 24th St', 'address2': '', 'address3': '', 'city': 'San Francisco', 'zip_code': '94110', 'country': 'US', 'state': 'CA', 'display_address': ['3036 24th St', 'San Francisco, CA 94110']}, 'phone': '+14158241761', 'display_phone': '(415) 824-1761', 'distance': 2274.0782006053914}, {'id': 's5NsptQPippNuZ6gJyCqCA', 'alias': 'books-inc-san-francisco-16', 'name': 'Books Inc', 'image_url': 'https://s3-media2.fl.yelpcdn.com/bphoto/r6E25K5i0aSW1yW2oAmCkQ/o.jpg', 'is_closed': False, 'url': 'https://www.yelp.com/biz/books-inc-san-francisco-16?adjust_creative=KT4y0mDx-kz9YKQ__AiT2A&utm_campaign=yelp_api_v3&utm_medium=api_v3_business_search&utm_source=KT4y0mDx-kz9YKQ__AiT2A', 'review_count': 112, 'categories': [{'alias': 'bookstores', 'title': 'Bookstores'}], 'rating': 4.0, 'coordinates': {'latitude': 37.80001, 'longitude': -122.44029}, 'transactions': [], 'price': '$$', 'location': {'address1': '2251 Chestnut St', 'address2': '', 'address3': '', 'city': 'San Francisco', 'zip_code': '94123', 'country': 'US', 'state': 'CA', 'display_address': ['2251 Chestnut St', 'San Francisco, CA 94123']}, 'phone': '+14159313633', 'display_phone': '(415) 931-3633', 'distance': 4363.560372196896}, {'id': 'BG5xISBIu-hpOAOHeZueKQ', 'alias': 'books-inc-san-francisco-15', 'name': 'Books Inc', 'image_url': 'https://s3-media3.fl.yelpcdn.com/bphoto/bAcR6mGH25wEOy0uTlWp-Q/o.jpg', 'is_closed': False, 'url': 'https://www.yelp.com/biz/books-inc-san-francisco-15?adjust_creative=KT4y0mDx-kz9YKQ__AiT2A&utm_campaign=yelp_api_v3&utm_medium=api_v3_business_search&utm_source=KT4y0mDx-kz9YKQ__AiT2A', 'review_count': 69, 'categories': [{'alias': 'bookstores', 'title': 'Bookstores'}], 'rating': 4.0, 'coordinates': {'latitude': 37.786338, 'longitude': -122.451783}, 'transactions': [], 'price': '$$', 'location': {'address1': '3515 California St', 'address2': '', 'address3': '', 'city': 'San Francisco', 'zip_code': '94118', 'country': 'US', 'state': 'CA', 'display_address': ['3515 California St', 'San Francisco, CA 94118']}, 'phone': '+14152213666', 'display_phone': '(415) 221-3666', 'distance': 3137.0777876856405}, {'id': '8ntVoyjYPusnqoObP0T4Lg', 'alias': 'bird-and-beckett-books-and-records-san-francisco', 'name': 'Bird & Beckett Books & Records', 'image_url': 'https://s3-media2.fl.yelpcdn.com/bphoto/-j2ehTqvG49NKpgesSlzgg/o.jpg', 'is_closed': False, 'url': 'https://www.yelp.com/biz/bird-and-beckett-books-and-records-san-francisco?adjust_creative=KT4y0mDx-kz9YKQ__AiT2A&utm_campaign=yelp_api_v3&utm_medium=api_v3_business_search&utm_source=KT4y0mDx-kz9YKQ__AiT2A', 'review_count': 104, 'categories': [{'alias': 'bookstores', 'title': 'Bookstores'}, {'alias': 'mags', 'title': 'Newspapers & Magazines'}, {'alias': 'jazzandblues', 'title': 'Jazz & Blues'}], 'rating': 4.5, 'coordinates': {'latitude': 37.73442, 'longitude': -122.43294}, 'transactions': [], 'price': '$$', 'location': {'address1': '653 Chenery St', 'address2': '', 'address3': '', 'city': 'San Francisco', 'zip_code': '94131', 'country': 'US', 'state': 'CA', 'display_address': ['653 Chenery St', 'San Francisco, CA 94131']}, 'phone': '+14155863733', 'display_phone': '(415) 586-3733', 'distance': 2965.309941988073}, {'id': 'mLDC0t0uY92nVcweGszKyA', 'alias': 'russian-hill-bookstore-san-francisco', 'name': 'Russian Hill Bookstore', 'image_url': 'https://s3-media1.fl.yelpcdn.com/bphoto/SmMyxrwiHqhTMMPP5OvNZg/o.jpg', 'is_closed': False, 'url': 'https://www.yelp.com/biz/russian-hill-bookstore-san-francisco?adjust_creative=KT4y0mDx-kz9YKQ__AiT2A&utm_campaign=yelp_api_v3&utm_medium=api_v3_business_search&utm_source=KT4y0mDx-kz9YKQ__AiT2A', 'review_count': 133, 'categories': [{'alias': 'stationery', 'title': 'Cards & Stationery'}, {'alias': 'bookstores', 'title': 'Bookstores'}, {'alias': 'tabletopgames', 'title': 'Tabletop Games'}], 'rating': 4.0, 'coordinates': {'latitude': 37.7967158, 'longitude': -122.4216856}, 'transactions': [], 'price': '$$', 'location': {'address1': '2162 Polk St', 'address2': '', 'address3': '', 'city': 'San Francisco', 'zip_code': '94109', 'country': 'US', 'state': 'CA', 'display_address': ['2162 Polk St', 'San Francisco, CA 94109']}, 'phone': '+14159290997', 'display_phone': '(415) 929-0997', 'distance': 4188.57707311077}, {'id': 'EYi_i_jQ5eQosYrl2-0Blw', 'alias': 'bound-together-anarchist-collective-bookstore-san-francisco', 'name': 'bound together anarchist collective bookstore', 'image_url': 'https://s3-media2.fl.yelpcdn.com/bphoto/b6J9pYin2To3jYpTcK5jGg/o.jpg', 'is_closed': False, 'url': 'https://www.yelp.com/biz/bound-together-anarchist-collective-bookstore-san-francisco?adjust_creative=KT4y0mDx-kz9YKQ__AiT2A&utm_campaign=yelp_api_v3&utm_medium=api_v3_business_search&utm_source=KT4y0mDx-kz9YKQ__AiT2A', 'review_count': 38, 'categories': [{'alias': 'bookstores', 'title': 'Bookstores'}], 'rating': 4.5, 'coordinates': {'latitude': 37.77016, 'longitude': -122.44479}, 'transactions': [], 'price': '$$', 'location': {'address1': '1369 Haight St', 'address2': '', 'address3': '', 'city': 'San Francisco', 'zip_code': '94117', 'country': 'US', 'state': 'CA', 'display_address': ['1369 Haight St', 'San Francisco, CA 94117']}, 'phone': '+14154318355', 'display_phone': '(415) 431-8355', 'distance': 1258.8041200894977}, {'id': 'OsjqKKbZ_-0v7tFn23oflw', 'alias': 'books-inc-san-francisco-17', 'name': 'Books Inc', 'image_url': 'https://s3-media1.fl.yelpcdn.com/bphoto/SfJX3h0UAirCQ7cGtKPG1A/o.jpg', 'is_closed': False, 'url': 'https://www.yelp.com/biz/books-inc-san-francisco-17?adjust_creative=KT4y0mDx-kz9YKQ__AiT2A&utm_campaign=yelp_api_v3&utm_medium=api_v3_business_search&utm_source=KT4y0mDx-kz9YKQ__AiT2A', 'review_count': 110, 'categories': [{'alias': 'bookstores', 'title': 'Bookstores'}], 'rating': 4.0, 'coordinates': {'latitude': 37.781247, 'longitude': -122.421495}, 'transactions': [], 'price': '$$', 'location': {'address1': '601 Van Ness Ave', 'address2': None, 'address3': '', 'city': 'San Francisco', 'zip_code': '94102', 'country': 'US', 'state': 'CA', 'display_address': ['601 Van Ness Ave', 'San Francisco, CA 94102']}, 'phone': '+14157761111', 'display_phone': '(415) 776-1111', 'distance': 2616.546801842711}], 'total': 206, 'region': {'center': {'longitude': -122.43644714355469, 'latitude': 37.76089938976322}}}\n"
     ]
    }
   ],
   "source": [
    "# Isolate the JSON data from the response object\n",
    "data = response.json()\n",
    "print(data)"
   ]
  },
  {
   "cell_type": "code",
   "execution_count": 7,
   "metadata": {
    "scrolled": false
   },
   "outputs": [
    {
     "data": {
      "text/html": [
       "<div>\n",
       "<style scoped>\n",
       "    .dataframe tbody tr th:only-of-type {\n",
       "        vertical-align: middle;\n",
       "    }\n",
       "\n",
       "    .dataframe tbody tr th {\n",
       "        vertical-align: top;\n",
       "    }\n",
       "\n",
       "    .dataframe thead th {\n",
       "        text-align: right;\n",
       "    }\n",
       "</style>\n",
       "<table border=\"1\" class=\"dataframe\">\n",
       "  <thead>\n",
       "    <tr style=\"text-align: right;\">\n",
       "      <th></th>\n",
       "      <th>id</th>\n",
       "      <th>alias</th>\n",
       "      <th>name</th>\n",
       "      <th>image_url</th>\n",
       "      <th>is_closed</th>\n",
       "      <th>url</th>\n",
       "      <th>review_count</th>\n",
       "      <th>categories</th>\n",
       "      <th>rating</th>\n",
       "      <th>coordinates</th>\n",
       "      <th>transactions</th>\n",
       "      <th>price</th>\n",
       "      <th>location</th>\n",
       "      <th>phone</th>\n",
       "      <th>display_phone</th>\n",
       "      <th>distance</th>\n",
       "    </tr>\n",
       "  </thead>\n",
       "  <tbody>\n",
       "    <tr>\n",
       "      <th>0</th>\n",
       "      <td>_rbF2ooLcMRA7Kh8neIr4g</td>\n",
       "      <td>city-lights-booksellers-and-publishers-san-fra...</td>\n",
       "      <td>City Lights Booksellers &amp; Publishers</td>\n",
       "      <td>https://s3-media4.fl.yelpcdn.com/bphoto/Y8uqLx...</td>\n",
       "      <td>False</td>\n",
       "      <td>https://www.yelp.com/biz/city-lights-bookselle...</td>\n",
       "      <td>701</td>\n",
       "      <td>[{'alias': 'bookstores', 'title': 'Bookstores'}]</td>\n",
       "      <td>4.5</td>\n",
       "      <td>{'latitude': 37.7975997924805, 'longitude': -1...</td>\n",
       "      <td>[]</td>\n",
       "      <td>$$</td>\n",
       "      <td>{'address1': '261 Columbus Ave', 'address2': '...</td>\n",
       "      <td>+14153628193</td>\n",
       "      <td>(415) 362-8193</td>\n",
       "      <td>4851.824108</td>\n",
       "    </tr>\n",
       "    <tr>\n",
       "      <th>1</th>\n",
       "      <td>ngUUOEyCHdLkGnO1I5M4Vg</td>\n",
       "      <td>green-apple-books-san-francisco</td>\n",
       "      <td>Green Apple Books</td>\n",
       "      <td>https://s3-media1.fl.yelpcdn.com/bphoto/49i9ez...</td>\n",
       "      <td>False</td>\n",
       "      <td>https://www.yelp.com/biz/green-apple-books-san...</td>\n",
       "      <td>1335</td>\n",
       "      <td>[{'alias': 'musicvideo', 'title': 'Music &amp; DVD...</td>\n",
       "      <td>4.5</td>\n",
       "      <td>{'latitude': 37.783391, 'longitude': -122.464596}</td>\n",
       "      <td>[]</td>\n",
       "      <td>$$</td>\n",
       "      <td>{'address1': '506 Clement St', 'address2': 'at...</td>\n",
       "      <td>+14153872272</td>\n",
       "      <td>(415) 387-2272</td>\n",
       "      <td>3517.958893</td>\n",
       "    </tr>\n",
       "    <tr>\n",
       "      <th>2</th>\n",
       "      <td>4BI1hK0tQZwQWino8olmTQ</td>\n",
       "      <td>alexander-book-san-francisco</td>\n",
       "      <td>Alexander Book</td>\n",
       "      <td>https://s3-media2.fl.yelpcdn.com/bphoto/Uf_q5T...</td>\n",
       "      <td>False</td>\n",
       "      <td>https://www.yelp.com/biz/alexander-book-san-fr...</td>\n",
       "      <td>196</td>\n",
       "      <td>[{'alias': 'bookstores', 'title': 'Bookstores'...</td>\n",
       "      <td>4.5</td>\n",
       "      <td>{'latitude': 37.78859, 'longitude': -122.4007332}</td>\n",
       "      <td>[]</td>\n",
       "      <td>$$</td>\n",
       "      <td>{'address1': '50 2nd St', 'address2': '', 'add...</td>\n",
       "      <td>+14154952992</td>\n",
       "      <td>(415) 495-2992</td>\n",
       "      <td>4396.988164</td>\n",
       "    </tr>\n",
       "    <tr>\n",
       "      <th>3</th>\n",
       "      <td>N9c6fjIX7jcuAdWZ6Rj4ZQ</td>\n",
       "      <td>the-booksmith-san-francisco</td>\n",
       "      <td>The Booksmith</td>\n",
       "      <td>https://s3-media1.fl.yelpcdn.com/bphoto/_7XYRb...</td>\n",
       "      <td>False</td>\n",
       "      <td>https://www.yelp.com/biz/the-booksmith-san-fra...</td>\n",
       "      <td>252</td>\n",
       "      <td>[{'alias': 'bookstores', 'title': 'Bookstores'...</td>\n",
       "      <td>4.5</td>\n",
       "      <td>{'latitude': 37.76931, 'longitude': -122.4512485}</td>\n",
       "      <td>[]</td>\n",
       "      <td>$$</td>\n",
       "      <td>{'address1': '1727 Haight St', 'address2': '',...</td>\n",
       "      <td>+14158638688</td>\n",
       "      <td>(415) 863-8688</td>\n",
       "      <td>1602.321225</td>\n",
       "    </tr>\n",
       "    <tr>\n",
       "      <th>4</th>\n",
       "      <td>sdIatTFoAAPg8MZHCbrADg</td>\n",
       "      <td>bookshop-west-portal-san-francisco</td>\n",
       "      <td>Bookshop West Portal</td>\n",
       "      <td>https://s3-media2.fl.yelpcdn.com/bphoto/lwsAqf...</td>\n",
       "      <td>False</td>\n",
       "      <td>https://www.yelp.com/biz/bookshop-west-portal-...</td>\n",
       "      <td>122</td>\n",
       "      <td>[{'alias': 'bookstores', 'title': 'Bookstores'}]</td>\n",
       "      <td>4.5</td>\n",
       "      <td>{'latitude': 37.74015, 'longitude': -122.46696}</td>\n",
       "      <td>[]</td>\n",
       "      <td>$$</td>\n",
       "      <td>{'address1': '80 West Portal Ave', 'address2':...</td>\n",
       "      <td>+14155648080</td>\n",
       "      <td>(415) 564-8080</td>\n",
       "      <td>3537.250725</td>\n",
       "    </tr>\n",
       "  </tbody>\n",
       "</table>\n",
       "</div>"
      ],
      "text/plain": [
       "                       id                                              alias  \\\n",
       "0  _rbF2ooLcMRA7Kh8neIr4g  city-lights-booksellers-and-publishers-san-fra...   \n",
       "1  ngUUOEyCHdLkGnO1I5M4Vg                    green-apple-books-san-francisco   \n",
       "2  4BI1hK0tQZwQWino8olmTQ                       alexander-book-san-francisco   \n",
       "3  N9c6fjIX7jcuAdWZ6Rj4ZQ                        the-booksmith-san-francisco   \n",
       "4  sdIatTFoAAPg8MZHCbrADg                 bookshop-west-portal-san-francisco   \n",
       "\n",
       "                                   name  \\\n",
       "0  City Lights Booksellers & Publishers   \n",
       "1                     Green Apple Books   \n",
       "2                        Alexander Book   \n",
       "3                         The Booksmith   \n",
       "4                  Bookshop West Portal   \n",
       "\n",
       "                                           image_url  is_closed  \\\n",
       "0  https://s3-media4.fl.yelpcdn.com/bphoto/Y8uqLx...      False   \n",
       "1  https://s3-media1.fl.yelpcdn.com/bphoto/49i9ez...      False   \n",
       "2  https://s3-media2.fl.yelpcdn.com/bphoto/Uf_q5T...      False   \n",
       "3  https://s3-media1.fl.yelpcdn.com/bphoto/_7XYRb...      False   \n",
       "4  https://s3-media2.fl.yelpcdn.com/bphoto/lwsAqf...      False   \n",
       "\n",
       "                                                 url  review_count  \\\n",
       "0  https://www.yelp.com/biz/city-lights-bookselle...           701   \n",
       "1  https://www.yelp.com/biz/green-apple-books-san...          1335   \n",
       "2  https://www.yelp.com/biz/alexander-book-san-fr...           196   \n",
       "3  https://www.yelp.com/biz/the-booksmith-san-fra...           252   \n",
       "4  https://www.yelp.com/biz/bookshop-west-portal-...           122   \n",
       "\n",
       "                                          categories  rating  \\\n",
       "0   [{'alias': 'bookstores', 'title': 'Bookstores'}]     4.5   \n",
       "1  [{'alias': 'musicvideo', 'title': 'Music & DVD...     4.5   \n",
       "2  [{'alias': 'bookstores', 'title': 'Bookstores'...     4.5   \n",
       "3  [{'alias': 'bookstores', 'title': 'Bookstores'...     4.5   \n",
       "4   [{'alias': 'bookstores', 'title': 'Bookstores'}]     4.5   \n",
       "\n",
       "                                         coordinates transactions price  \\\n",
       "0  {'latitude': 37.7975997924805, 'longitude': -1...           []    $$   \n",
       "1  {'latitude': 37.783391, 'longitude': -122.464596}           []    $$   \n",
       "2  {'latitude': 37.78859, 'longitude': -122.4007332}           []    $$   \n",
       "3  {'latitude': 37.76931, 'longitude': -122.4512485}           []    $$   \n",
       "4    {'latitude': 37.74015, 'longitude': -122.46696}           []    $$   \n",
       "\n",
       "                                            location         phone  \\\n",
       "0  {'address1': '261 Columbus Ave', 'address2': '...  +14153628193   \n",
       "1  {'address1': '506 Clement St', 'address2': 'at...  +14153872272   \n",
       "2  {'address1': '50 2nd St', 'address2': '', 'add...  +14154952992   \n",
       "3  {'address1': '1727 Haight St', 'address2': '',...  +14158638688   \n",
       "4  {'address1': '80 West Portal Ave', 'address2':...  +14155648080   \n",
       "\n",
       "    display_phone     distance  \n",
       "0  (415) 362-8193  4851.824108  \n",
       "1  (415) 387-2272  3517.958893  \n",
       "2  (415) 495-2992  4396.988164  \n",
       "3  (415) 863-8688  1602.321225  \n",
       "4  (415) 564-8080  3537.250725  "
      ]
     },
     "execution_count": 7,
     "metadata": {},
     "output_type": "execute_result"
    }
   ],
   "source": [
    "# Load businesses data to a data frame\n",
    "bookstores = pd.DataFrame(data['businesses'])\n",
    "bookstores.head()"
   ]
  },
  {
   "cell_type": "code",
   "execution_count": 8,
   "metadata": {},
   "outputs": [
    {
     "data": {
      "text/html": [
       "<div>\n",
       "<style scoped>\n",
       "    .dataframe tbody tr th:only-of-type {\n",
       "        vertical-align: middle;\n",
       "    }\n",
       "\n",
       "    .dataframe tbody tr th {\n",
       "        vertical-align: top;\n",
       "    }\n",
       "\n",
       "    .dataframe thead th {\n",
       "        text-align: right;\n",
       "    }\n",
       "</style>\n",
       "<table border=\"1\" class=\"dataframe\">\n",
       "  <thead>\n",
       "    <tr style=\"text-align: right;\">\n",
       "      <th></th>\n",
       "      <th>categories</th>\n",
       "      <th>coordinates</th>\n",
       "      <th>location</th>\n",
       "    </tr>\n",
       "  </thead>\n",
       "  <tbody>\n",
       "    <tr>\n",
       "      <th>0</th>\n",
       "      <td>[{'alias': 'bookstores', 'title': 'Bookstores'}]</td>\n",
       "      <td>{'latitude': 37.7975997924805, 'longitude': -1...</td>\n",
       "      <td>{'address1': '261 Columbus Ave', 'address2': '...</td>\n",
       "    </tr>\n",
       "    <tr>\n",
       "      <th>1</th>\n",
       "      <td>[{'alias': 'musicvideo', 'title': 'Music &amp; DVD...</td>\n",
       "      <td>{'latitude': 37.783391, 'longitude': -122.464596}</td>\n",
       "      <td>{'address1': '506 Clement St', 'address2': 'at...</td>\n",
       "    </tr>\n",
       "    <tr>\n",
       "      <th>2</th>\n",
       "      <td>[{'alias': 'bookstores', 'title': 'Bookstores'...</td>\n",
       "      <td>{'latitude': 37.78859, 'longitude': -122.4007332}</td>\n",
       "      <td>{'address1': '50 2nd St', 'address2': '', 'add...</td>\n",
       "    </tr>\n",
       "  </tbody>\n",
       "</table>\n",
       "</div>"
      ],
      "text/plain": [
       "                                          categories  \\\n",
       "0   [{'alias': 'bookstores', 'title': 'Bookstores'}]   \n",
       "1  [{'alias': 'musicvideo', 'title': 'Music & DVD...   \n",
       "2  [{'alias': 'bookstores', 'title': 'Bookstores'...   \n",
       "\n",
       "                                         coordinates  \\\n",
       "0  {'latitude': 37.7975997924805, 'longitude': -1...   \n",
       "1  {'latitude': 37.783391, 'longitude': -122.464596}   \n",
       "2  {'latitude': 37.78859, 'longitude': -122.4007332}   \n",
       "\n",
       "                                            location  \n",
       "0  {'address1': '261 Columbus Ave', 'address2': '...  \n",
       "1  {'address1': '506 Clement St', 'address2': 'at...  \n",
       "2  {'address1': '50 2nd St', 'address2': '', 'add...  "
      ]
     },
     "execution_count": 8,
     "metadata": {},
     "output_type": "execute_result"
    }
   ],
   "source": [
    "bookstores[['categories','coordinates','location']].head(3)"
   ]
  },
  {
   "cell_type": "markdown",
   "metadata": {},
   "source": [
    "## Loading Nested JSON Data"
   ]
  },
  {
   "cell_type": "code",
   "execution_count": 9,
   "metadata": {},
   "outputs": [],
   "source": [
    "# Using previously set up headers, parameters, and API endpoint we previously made the API call and extracted JSON data\n",
    "# Flatten data and load to data frame with _ separators\n",
    "bookstores = json_normalize(data['businesses'], sep=\"_\")"
   ]
  },
  {
   "cell_type": "code",
   "execution_count": 10,
   "metadata": {},
   "outputs": [
    {
     "name": "stdout",
     "output_type": "stream",
     "text": [
      "['id', 'alias', 'name', 'image_url', 'is_closed', 'url', 'review_count', 'categories', 'rating', 'transactions', 'price', 'phone', 'display_phone', 'distance', 'coordinates_latitude', 'coordinates_longitude', 'location_address1', 'location_address2', 'location_address3', 'location_city', 'location_zip_code', 'location_country', 'location_state', 'location_display_address']\n"
     ]
    }
   ],
   "source": [
    "print(list(bookstores))"
   ]
  },
  {
   "cell_type": "code",
   "execution_count": 12,
   "metadata": {},
   "outputs": [
    {
     "data": {
      "text/plain": [
       "0     [{'alias': 'bookstores', 'title': 'Bookstores'}]\n",
       "1    [{'alias': 'musicvideo', 'title': 'Music & DVD...\n",
       "2    [{'alias': 'bookstores', 'title': 'Bookstores'...\n",
       "3    [{'alias': 'bookstores', 'title': 'Bookstores'...\n",
       "4     [{'alias': 'bookstores', 'title': 'Bookstores'}]\n",
       "Name: categories, dtype: object"
      ]
     },
     "execution_count": 12,
     "metadata": {},
     "output_type": "execute_result"
    }
   ],
   "source": [
    "# Look at deeply nested data from 'categories'\n",
    "bookstores.categories.head()"
   ]
  },
  {
   "cell_type": "markdown",
   "metadata": {},
   "source": [
    "The `categories` column is still nested. We can further flatten this using json_normalize and pass lists to the `meta` attribute"
   ]
  },
  {
   "cell_type": "code",
   "execution_count": 13,
   "metadata": {},
   "outputs": [],
   "source": [
    "# Flatten categories data, bring in business details (businesses and categories both have alias columns so we use meta_prefix to differentiate them)\n",
    "df = json_normalize(data['businesses'],\n",
    "                   sep='_',\n",
    "                   record_path='categories',\n",
    "                   meta=['name',\n",
    "                        'alias',\n",
    "                        'rating',\n",
    "                        ['coordinates','latitude'],\n",
    "                        ['coordinates','longitude']],\n",
    "                   meta_prefix='biz_')"
   ]
  },
  {
   "cell_type": "code",
   "execution_count": 15,
   "metadata": {},
   "outputs": [
    {
     "data": {
      "text/html": [
       "<div>\n",
       "<style scoped>\n",
       "    .dataframe tbody tr th:only-of-type {\n",
       "        vertical-align: middle;\n",
       "    }\n",
       "\n",
       "    .dataframe tbody tr th {\n",
       "        vertical-align: top;\n",
       "    }\n",
       "\n",
       "    .dataframe thead th {\n",
       "        text-align: right;\n",
       "    }\n",
       "</style>\n",
       "<table border=\"1\" class=\"dataframe\">\n",
       "  <thead>\n",
       "    <tr style=\"text-align: right;\">\n",
       "      <th></th>\n",
       "      <th>alias</th>\n",
       "      <th>title</th>\n",
       "      <th>biz_name</th>\n",
       "      <th>biz_alias</th>\n",
       "      <th>biz_rating</th>\n",
       "      <th>biz_coordinates_latitude</th>\n",
       "      <th>biz_coordinates_longitude</th>\n",
       "    </tr>\n",
       "  </thead>\n",
       "  <tbody>\n",
       "    <tr>\n",
       "      <th>0</th>\n",
       "      <td>bookstores</td>\n",
       "      <td>Bookstores</td>\n",
       "      <td>City Lights Booksellers &amp; Publishers</td>\n",
       "      <td>city-lights-booksellers-and-publishers-san-fra...</td>\n",
       "      <td>4.5</td>\n",
       "      <td>37.7976</td>\n",
       "      <td>-122.407</td>\n",
       "    </tr>\n",
       "    <tr>\n",
       "      <th>1</th>\n",
       "      <td>musicvideo</td>\n",
       "      <td>Music &amp; DVDs</td>\n",
       "      <td>Green Apple Books</td>\n",
       "      <td>green-apple-books-san-francisco</td>\n",
       "      <td>4.5</td>\n",
       "      <td>37.7834</td>\n",
       "      <td>-122.465</td>\n",
       "    </tr>\n",
       "    <tr>\n",
       "      <th>2</th>\n",
       "      <td>bookstores</td>\n",
       "      <td>Bookstores</td>\n",
       "      <td>Green Apple Books</td>\n",
       "      <td>green-apple-books-san-francisco</td>\n",
       "      <td>4.5</td>\n",
       "      <td>37.7834</td>\n",
       "      <td>-122.465</td>\n",
       "    </tr>\n",
       "    <tr>\n",
       "      <th>3</th>\n",
       "      <td>bookstores</td>\n",
       "      <td>Bookstores</td>\n",
       "      <td>Alexander Book</td>\n",
       "      <td>alexander-book-san-francisco</td>\n",
       "      <td>4.5</td>\n",
       "      <td>37.7886</td>\n",
       "      <td>-122.401</td>\n",
       "    </tr>\n",
       "  </tbody>\n",
       "</table>\n",
       "</div>"
      ],
      "text/plain": [
       "        alias         title                              biz_name  \\\n",
       "0  bookstores    Bookstores  City Lights Booksellers & Publishers   \n",
       "1  musicvideo  Music & DVDs                     Green Apple Books   \n",
       "2  bookstores    Bookstores                     Green Apple Books   \n",
       "3  bookstores    Bookstores                        Alexander Book   \n",
       "\n",
       "                                           biz_alias biz_rating  \\\n",
       "0  city-lights-booksellers-and-publishers-san-fra...        4.5   \n",
       "1                    green-apple-books-san-francisco        4.5   \n",
       "2                    green-apple-books-san-francisco        4.5   \n",
       "3                       alexander-book-san-francisco        4.5   \n",
       "\n",
       "  biz_coordinates_latitude biz_coordinates_longitude  \n",
       "0                  37.7976                  -122.407  \n",
       "1                  37.7834                  -122.465  \n",
       "2                  37.7834                  -122.465  \n",
       "3                  37.7886                  -122.401  "
      ]
     },
     "execution_count": 15,
     "metadata": {},
     "output_type": "execute_result"
    }
   ],
   "source": [
    "df.head(4)"
   ]
  },
  {
   "cell_type": "markdown",
   "metadata": {},
   "source": [
    "The result is totally flat, however businesses with multiple categories repeat. Depending on the use case this could be fine, or duplicates "
   ]
  }
 ],
 "metadata": {
  "kernelspec": {
   "display_name": "Python 3",
   "language": "python",
   "name": "python3"
  },
  "language_info": {
   "codemirror_mode": {
    "name": "ipython",
    "version": 3
   },
   "file_extension": ".py",
   "mimetype": "text/x-python",
   "name": "python",
   "nbconvert_exporter": "python",
   "pygments_lexer": "ipython3",
   "version": "3.7.9"
  }
 },
 "nbformat": 4,
 "nbformat_minor": 4
}
