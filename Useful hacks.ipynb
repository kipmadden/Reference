{
 "cells": [
  {
   "cell_type": "markdown",
   "metadata": {},
   "source": [
    "# Notebook of useful \"hacks\"\n",
    "\n"
   ]
  },
  {
   "cell_type": "markdown",
   "metadata": {},
   "source": [
    "# <span style=\"color:blue\">pd.read_clipboard()</span>\n",
    "Immediately create a dataframe in pandas using what you have in your clipboard\n",
    "* Only works with local Jupyter notebooks"
   ]
  },
  {
   "cell_type": "markdown",
   "metadata": {},
   "source": [
    "### Learned from Datacamp and looked up in an article by \n",
    "Adrian Mark Perera\n",
    "[Pandas Hacks: read_clipboard()](https://towardsdatascience.com/pandas-hacks-read-clipboard-94a05c031382)\n"
   ]
  },
  {
   "cell_type": "markdown",
   "metadata": {},
   "source": [
    "## Below find some csv data that you can copy to your clipboard"
   ]
  },
  {
   "cell_type": "markdown",
   "metadata": {},
   "source": [
    "```\n",
    "1,0,3,\"Braund, Mr. Owen Harris\",male,22,1,0,A/5 21171,7.25,,S\n",
    "2,1,1,\"Cumings, Mrs. John Bradley (Florence Briggs Thayer)\",female,38,1,0,PC 17599,71.2833,C85,C\n",
    "3,1,3,\"Heikkinen, Miss. Laina\",female,26,0,0,STON/O2. 3101282,7.925,,S\n",
    "4,1,1,\"Futrelle, Mrs. Jacques Heath (Lily May Peel)\",female,35,1,0,113803,53.1,C123,S\n",
    "5,0,3,\"Allen, Mr. William Henry\",male,35,0,0,373450,8.05,,S\n",
    "6,0,3,\"Moran, Mr. James\",male,,0,0,330877,8.4583,,Q\n",
    "7,0,1,\"McCarthy, Mr. Timothy J\",male,54,0,0,17463,51.8625,E46,S\n",
    "8,0,3,\"Palsson, Master. Gosta Leonard\",male,2,3,1,349909,21.075,,S\n",
    "9,1,3,\"Johnson, Mrs. Oscar W (Elisabeth Vilhelmina Berg)\",female,27,0,2,347742,11.1333,,S\n",
    "10,1,2,\"Nasser, Mrs. Nicholas (Adele Achem)\",female,14,1,0,237736,30.0708,,C\n",
    "11,1,3,\"Sandstrom, Miss. Marguerite Rut\",female,4,1,1,PP 9549,16.7,G6,S\n",
    "12,1,1,\"Bonnell, Miss. Elizabeth\",female,58,0,0,113783,26.55,C103,S\n",
    "13,0,3,\"Saundercock, Mr. William Henry\",male,20,0,0,A/5. 2151,8.05,,S\n",
    "14,0,3,\"Andersson, Mr. Anders Johan\",male,39,1,5,347082,31.275,,S\n",
    "15,0,3,\"Vestrom, Miss. Hulda Amanda Adolfina\",female,14,0,0,350406,7.8542,,S\n",
    "16,1,2,\"Hewlett, Mrs. (Mary D Kingcome) \",female,55,0,0,248706,16,,S\n",
    "17,0,3,\"Rice, Master. Eugene\",male,2,4,1,382652,29.125,,Q\n",
    "18,1,2,\"Williams, Mr. Charles Eugene\",male,,0,0,244373,13,,S\n",
    "19,0,3,\"Vander Planke, Mrs. Julius (Emelia Maria Vandemoortele)\",female,31,1,0,345763,18,,S\n",
    "20,1,3,\"Masselmani, Mrs. Fatima\",female,,0,0,2649,7.225,,C\n",
    "21,0,2,\"Fynney, Mr. Joseph J\",male,35,0,0,239865,26,,S\n",
    "22,1,2,\"Beesley, Mr. Lawrence\",male,34,0,0,248698,13,D56,S\n",
    "23,1,3,\"McGowan, Miss. Anna \"\"Annie\"\"\",female,15,0,0,330923,8.0292,,Q\n",
    "24,1,1,\"Sloper, Mr. William Thompson\",male,28,0,0,113788,35.5,A6,S\n",
    "25,0,3,\"Palsson, Miss. Torborg Danira\",female,8,3,1,349909,21.075,,S\n",
    "26,1,3,\"Asplund, Mrs. Carl Oscar (Selma Augusta Emilia Johansson)\",female,38,1,5,347077,31.3875,,S\n",
    "27,0,3,\"Emir, Mr. Farred Chehab\",male,,0,0,2631,7.225,,C\n",
    "28,0,1,\"Fortune, Mr. Charles Alexander\",male,19,3,2,19950,263,C23 C25 C27,S\n",
    "```"
   ]
  },
  {
   "cell_type": "code",
   "execution_count": 11,
   "metadata": {},
   "outputs": [],
   "source": [
    "import pandas as pd"
   ]
  },
  {
   "cell_type": "code",
   "execution_count": 14,
   "metadata": {},
   "outputs": [
    {
     "ename": "TypeError",
     "evalue": "read_csv() got an unexpected keyword argument 'separator'",
     "output_type": "error",
     "traceback": [
      "\u001b[1;31m---------------------------------------------------------------------------\u001b[0m",
      "\u001b[1;31mTypeError\u001b[0m                                 Traceback (most recent call last)",
      "\u001b[1;32m<ipython-input-14-42c3a3fe45c8>\u001b[0m in \u001b[0;36m<module>\u001b[1;34m\u001b[0m\n\u001b[0;32m      4\u001b[0m     \u001b[1;34m'Cabin'\u001b[0m\u001b[1;33m,\u001b[0m \u001b[1;34m'Embarked'\u001b[0m\u001b[1;33m,\u001b[0m\u001b[1;33m\u001b[0m\u001b[1;33m\u001b[0m\u001b[0m\n\u001b[0;32m      5\u001b[0m ]\n\u001b[1;32m----> 6\u001b[1;33m \u001b[0mdf\u001b[0m \u001b[1;33m=\u001b[0m \u001b[0mpd\u001b[0m\u001b[1;33m.\u001b[0m\u001b[0mread_clipboard\u001b[0m\u001b[1;33m(\u001b[0m\u001b[0mheader\u001b[0m\u001b[1;33m=\u001b[0m\u001b[1;32mNone\u001b[0m\u001b[1;33m,\u001b[0m \u001b[0mnames\u001b[0m\u001b[1;33m=\u001b[0m\u001b[0mcolumns\u001b[0m\u001b[1;33m,\u001b[0m \u001b[0mseparator\u001b[0m\u001b[1;33m=\u001b[0m\u001b[1;34m','\u001b[0m\u001b[1;33m)\u001b[0m\u001b[1;33m\u001b[0m\u001b[1;33m\u001b[0m\u001b[0m\n\u001b[0m",
      "\u001b[1;32mC:\\ProgramData\\Anaconda3\\lib\\site-packages\\pandas\\io\\clipboards.py\u001b[0m in \u001b[0;36mread_clipboard\u001b[1;34m(sep, **kwargs)\u001b[0m\n\u001b[0;32m     73\u001b[0m         )\n\u001b[0;32m     74\u001b[0m \u001b[1;33m\u001b[0m\u001b[0m\n\u001b[1;32m---> 75\u001b[1;33m     \u001b[1;32mreturn\u001b[0m \u001b[0mread_csv\u001b[0m\u001b[1;33m(\u001b[0m\u001b[0mStringIO\u001b[0m\u001b[1;33m(\u001b[0m\u001b[0mtext\u001b[0m\u001b[1;33m)\u001b[0m\u001b[1;33m,\u001b[0m \u001b[0msep\u001b[0m\u001b[1;33m=\u001b[0m\u001b[0msep\u001b[0m\u001b[1;33m,\u001b[0m \u001b[1;33m**\u001b[0m\u001b[0mkwargs\u001b[0m\u001b[1;33m)\u001b[0m\u001b[1;33m\u001b[0m\u001b[1;33m\u001b[0m\u001b[0m\n\u001b[0m\u001b[0;32m     76\u001b[0m \u001b[1;33m\u001b[0m\u001b[0m\n\u001b[0;32m     77\u001b[0m \u001b[1;33m\u001b[0m\u001b[0m\n",
      "\u001b[1;31mTypeError\u001b[0m: read_csv() got an unexpected keyword argument 'separator'"
     ]
    }
   ],
   "source": [
    "columns = [\n",
    "    'PassengerId', 'Survived', 'Pclass', 'Name',\n",
    "    'Sex', 'Age', 'SibSp', 'Parch', 'Ticket', 'Fare',\n",
    "    'Cabin', 'Embarked',\n",
    "]\n",
    "df = pd.read_clipboard(header=None, names=columns, separator=',')"
   ]
  },
  {
   "cell_type": "code",
   "execution_count": 13,
   "metadata": {},
   "outputs": [
    {
     "data": {
      "text/html": [
       "<div>\n",
       "<style scoped>\n",
       "    .dataframe tbody tr th:only-of-type {\n",
       "        vertical-align: middle;\n",
       "    }\n",
       "\n",
       "    .dataframe tbody tr th {\n",
       "        vertical-align: top;\n",
       "    }\n",
       "\n",
       "    .dataframe thead th {\n",
       "        text-align: right;\n",
       "    }\n",
       "</style>\n",
       "<table border=\"1\" class=\"dataframe\">\n",
       "  <thead>\n",
       "    <tr style=\"text-align: right;\">\n",
       "      <th></th>\n",
       "      <th>PassengerId</th>\n",
       "      <th>Survived</th>\n",
       "      <th>Pclass</th>\n",
       "      <th>Name</th>\n",
       "      <th>Sex</th>\n",
       "      <th>Age</th>\n",
       "      <th>SibSp</th>\n",
       "      <th>Parch</th>\n",
       "      <th>Ticket</th>\n",
       "      <th>Fare</th>\n",
       "      <th>Cabin</th>\n",
       "      <th>Embarked</th>\n",
       "    </tr>\n",
       "  </thead>\n",
       "  <tbody>\n",
       "    <tr>\n",
       "      <th>0</th>\n",
       "      <td>1,0,3,\"Braund,</td>\n",
       "      <td>Mr.</td>\n",
       "      <td>Owen</td>\n",
       "      <td>Harris\",male,22,1,0,A/5</td>\n",
       "      <td>21171,7.25,,S</td>\n",
       "      <td>None</td>\n",
       "      <td>None</td>\n",
       "      <td>None</td>\n",
       "      <td>NaN</td>\n",
       "      <td>NaN</td>\n",
       "      <td>NaN</td>\n",
       "      <td>NaN</td>\n",
       "    </tr>\n",
       "    <tr>\n",
       "      <th>1</th>\n",
       "      <td>2,1,1,\"Cumings,</td>\n",
       "      <td>Mrs.</td>\n",
       "      <td>John</td>\n",
       "      <td>Bradley</td>\n",
       "      <td>(Florence</td>\n",
       "      <td>Briggs</td>\n",
       "      <td>Thayer)\",female,38,1,0,PC</td>\n",
       "      <td>17599,71.2833,C85,C</td>\n",
       "      <td>NaN</td>\n",
       "      <td>NaN</td>\n",
       "      <td>NaN</td>\n",
       "      <td>NaN</td>\n",
       "    </tr>\n",
       "    <tr>\n",
       "      <th>2</th>\n",
       "      <td>3,1,3,\"Heikkinen,</td>\n",
       "      <td>Miss.</td>\n",
       "      <td>Laina\",female,26,0,0,STON/O2.</td>\n",
       "      <td>3101282,7.925,,S</td>\n",
       "      <td>None</td>\n",
       "      <td>None</td>\n",
       "      <td>None</td>\n",
       "      <td>None</td>\n",
       "      <td>NaN</td>\n",
       "      <td>NaN</td>\n",
       "      <td>NaN</td>\n",
       "      <td>NaN</td>\n",
       "    </tr>\n",
       "    <tr>\n",
       "      <th>3</th>\n",
       "      <td>4,1,1,\"Futrelle,</td>\n",
       "      <td>Mrs.</td>\n",
       "      <td>Jacques</td>\n",
       "      <td>Heath</td>\n",
       "      <td>(Lily</td>\n",
       "      <td>May</td>\n",
       "      <td>Peel)\",female,35,1,0,113803,53.1,C123,S</td>\n",
       "      <td>None</td>\n",
       "      <td>NaN</td>\n",
       "      <td>NaN</td>\n",
       "      <td>NaN</td>\n",
       "      <td>NaN</td>\n",
       "    </tr>\n",
       "    <tr>\n",
       "      <th>4</th>\n",
       "      <td>5,0,3,\"Allen,</td>\n",
       "      <td>Mr.</td>\n",
       "      <td>William</td>\n",
       "      <td>Henry\",male,35,0,0,373450,8.05,,S</td>\n",
       "      <td>None</td>\n",
       "      <td>None</td>\n",
       "      <td>None</td>\n",
       "      <td>None</td>\n",
       "      <td>NaN</td>\n",
       "      <td>NaN</td>\n",
       "      <td>NaN</td>\n",
       "      <td>NaN</td>\n",
       "    </tr>\n",
       "  </tbody>\n",
       "</table>\n",
       "</div>"
      ],
      "text/plain": [
       "         PassengerId Survived                         Pclass  \\\n",
       "0     1,0,3,\"Braund,      Mr.                           Owen   \n",
       "1    2,1,1,\"Cumings,     Mrs.                           John   \n",
       "2  3,1,3,\"Heikkinen,    Miss.  Laina\",female,26,0,0,STON/O2.   \n",
       "3   4,1,1,\"Futrelle,     Mrs.                        Jacques   \n",
       "4      5,0,3,\"Allen,      Mr.                        William   \n",
       "\n",
       "                                Name            Sex     Age  \\\n",
       "0            Harris\",male,22,1,0,A/5  21171,7.25,,S    None   \n",
       "1                            Bradley      (Florence  Briggs   \n",
       "2                   3101282,7.925,,S           None    None   \n",
       "3                              Heath          (Lily     May   \n",
       "4  Henry\",male,35,0,0,373450,8.05,,S           None    None   \n",
       "\n",
       "                                     SibSp                Parch  Ticket  Fare  \\\n",
       "0                                     None                 None     NaN   NaN   \n",
       "1                Thayer)\",female,38,1,0,PC  17599,71.2833,C85,C     NaN   NaN   \n",
       "2                                     None                 None     NaN   NaN   \n",
       "3  Peel)\",female,35,1,0,113803,53.1,C123,S                 None     NaN   NaN   \n",
       "4                                     None                 None     NaN   NaN   \n",
       "\n",
       "   Cabin  Embarked  \n",
       "0    NaN       NaN  \n",
       "1    NaN       NaN  \n",
       "2    NaN       NaN  \n",
       "3    NaN       NaN  \n",
       "4    NaN       NaN  "
      ]
     },
     "execution_count": 13,
     "metadata": {},
     "output_type": "execute_result"
    }
   ],
   "source": [
    "df.head()"
   ]
  },
  {
   "cell_type": "code",
   "execution_count": null,
   "metadata": {},
   "outputs": [],
   "source": []
  }
 ],
 "metadata": {
  "kernelspec": {
   "display_name": "Python 3",
   "language": "python",
   "name": "python3"
  },
  "language_info": {
   "codemirror_mode": {
    "name": "ipython",
    "version": 3
   },
   "file_extension": ".py",
   "mimetype": "text/x-python",
   "name": "python",
   "nbconvert_exporter": "python",
   "pygments_lexer": "ipython3",
   "version": "3.7.9"
  }
 },
 "nbformat": 4,
 "nbformat_minor": 4
}
