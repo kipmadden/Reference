{
 "cells": [
  {
   "cell_type": "markdown",
   "metadata": {},
   "source": [
    "# What is the average birth weight of babies in the United States?"
   ]
  },
  {
   "cell_type": "markdown",
   "metadata": {},
   "source": [
    "### Using data from National Survey of Family Growth (NSFG) from the National Center for Health Statistics\n",
    "https://www.cdc.gov/nchs/nsfg/nsfg_2017_2019_puf.htm  \n",
    "![nsfg_homepage](images/NSFG_homepage.jpg)\n",
    "\n",
    "\n",
    "Data downloaded from AllenDowney/ThinkStats2 Github:  \n",
    "https://github.com/AllenDowney/ThinkStats2/tree/master/homeworks\n",
    "\n",
    "The Codebook with column explanations was downloaded here:  \n",
    "https://www.cdc.gov/nchs/data/nsfg/2013-2015_NSFG_FemPregFile_Codebook.pdf"
   ]
  },
  {
   "cell_type": "markdown",
   "metadata": {},
   "source": [
    "## Import the data and put into a dataframe"
   ]
  },
  {
   "cell_type": "code",
   "execution_count": 1,
   "metadata": {},
   "outputs": [],
   "source": [
    "# Import dependencies\n",
    "import pandas as pd\n",
    "import numpy as np\n",
    "import matplotlib.pyplot as plt\n",
    "import seaborn as sns"
   ]
  },
  {
   "cell_type": "code",
   "execution_count": 2,
   "metadata": {},
   "outputs": [],
   "source": [
    "# Read the data into a pandas dataframe\n",
    "nsfg = pd.read_hdf('data/nsfg.hdf5', 'nsfg')"
   ]
  },
  {
   "cell_type": "code",
   "execution_count": 3,
   "metadata": {},
   "outputs": [
    {
     "data": {
      "text/plain": [
       "pandas.core.frame.DataFrame"
      ]
     },
     "execution_count": 3,
     "metadata": {},
     "output_type": "execute_result"
    }
   ],
   "source": [
    "type(nsfg)"
   ]
  },
  {
   "cell_type": "markdown",
   "metadata": {},
   "source": [
    "### First thing to do is read the documentation to understand the meaning of the data you are working with\n",
    "\n",
    "#### Using the Codebook (download link above) we examine one of the variables\n",
    "![birthwgt_oz1](images/birthwgt_oz1.jpg)  \n"
   ]
  },
  {
   "cell_type": "markdown",
   "metadata": {},
   "source": [
    "### Next, take a first look at what we are dealing with using:\n",
    "```pandas\n",
    "nsfg.shape\n",
    "nsfg.columns\n",
    "nsfg.head()\n",
    "```"
   ]
  },
  {
   "cell_type": "code",
   "execution_count": 4,
   "metadata": {},
   "outputs": [
    {
     "data": {
      "text/plain": [
       "(9358, 10)"
      ]
     },
     "execution_count": 4,
     "metadata": {},
     "output_type": "execute_result"
    }
   ],
   "source": [
    "# Display the number of rows and columns\n",
    "nsfg.shape"
   ]
  },
  {
   "cell_type": "code",
   "execution_count": 5,
   "metadata": {},
   "outputs": [
    {
     "data": {
      "text/plain": [
       "Index(['caseid', 'outcome', 'birthwgt_lb1', 'birthwgt_oz1', 'prglngth',\n",
       "       'nbrnaliv', 'agecon', 'agepreg', 'hpagelb', 'wgt2013_2015'],\n",
       "      dtype='object')"
      ]
     },
     "execution_count": 5,
     "metadata": {},
     "output_type": "execute_result"
    }
   ],
   "source": [
    "# Display the names of the columns\n",
    "nsfg.columns"
   ]
  },
  {
   "cell_type": "code",
   "execution_count": 6,
   "metadata": {},
   "outputs": [
    {
     "data": {
      "text/html": [
       "<div>\n",
       "<style scoped>\n",
       "    .dataframe tbody tr th:only-of-type {\n",
       "        vertical-align: middle;\n",
       "    }\n",
       "\n",
       "    .dataframe tbody tr th {\n",
       "        vertical-align: top;\n",
       "    }\n",
       "\n",
       "    .dataframe thead th {\n",
       "        text-align: right;\n",
       "    }\n",
       "</style>\n",
       "<table border=\"1\" class=\"dataframe\">\n",
       "  <thead>\n",
       "    <tr style=\"text-align: right;\">\n",
       "      <th></th>\n",
       "      <th>caseid</th>\n",
       "      <th>outcome</th>\n",
       "      <th>birthwgt_lb1</th>\n",
       "      <th>birthwgt_oz1</th>\n",
       "      <th>prglngth</th>\n",
       "      <th>nbrnaliv</th>\n",
       "      <th>agecon</th>\n",
       "      <th>agepreg</th>\n",
       "      <th>hpagelb</th>\n",
       "      <th>wgt2013_2015</th>\n",
       "    </tr>\n",
       "  </thead>\n",
       "  <tbody>\n",
       "    <tr>\n",
       "      <th>0</th>\n",
       "      <td>60418</td>\n",
       "      <td>1</td>\n",
       "      <td>5.0</td>\n",
       "      <td>4.0</td>\n",
       "      <td>40</td>\n",
       "      <td>1.0</td>\n",
       "      <td>2000</td>\n",
       "      <td>2075.0</td>\n",
       "      <td>22.0</td>\n",
       "      <td>3554.964843</td>\n",
       "    </tr>\n",
       "    <tr>\n",
       "      <th>1</th>\n",
       "      <td>60418</td>\n",
       "      <td>1</td>\n",
       "      <td>4.0</td>\n",
       "      <td>12.0</td>\n",
       "      <td>36</td>\n",
       "      <td>1.0</td>\n",
       "      <td>2291</td>\n",
       "      <td>2358.0</td>\n",
       "      <td>25.0</td>\n",
       "      <td>3554.964843</td>\n",
       "    </tr>\n",
       "    <tr>\n",
       "      <th>2</th>\n",
       "      <td>60418</td>\n",
       "      <td>1</td>\n",
       "      <td>5.0</td>\n",
       "      <td>4.0</td>\n",
       "      <td>36</td>\n",
       "      <td>1.0</td>\n",
       "      <td>3241</td>\n",
       "      <td>3308.0</td>\n",
       "      <td>52.0</td>\n",
       "      <td>3554.964843</td>\n",
       "    </tr>\n",
       "    <tr>\n",
       "      <th>3</th>\n",
       "      <td>60419</td>\n",
       "      <td>6</td>\n",
       "      <td>NaN</td>\n",
       "      <td>NaN</td>\n",
       "      <td>33</td>\n",
       "      <td>NaN</td>\n",
       "      <td>3650</td>\n",
       "      <td>NaN</td>\n",
       "      <td>NaN</td>\n",
       "      <td>2484.535358</td>\n",
       "    </tr>\n",
       "    <tr>\n",
       "      <th>4</th>\n",
       "      <td>60420</td>\n",
       "      <td>1</td>\n",
       "      <td>8.0</td>\n",
       "      <td>13.0</td>\n",
       "      <td>41</td>\n",
       "      <td>1.0</td>\n",
       "      <td>2191</td>\n",
       "      <td>2266.0</td>\n",
       "      <td>24.0</td>\n",
       "      <td>2903.782914</td>\n",
       "    </tr>\n",
       "  </tbody>\n",
       "</table>\n",
       "</div>"
      ],
      "text/plain": [
       "   caseid  outcome  birthwgt_lb1  birthwgt_oz1  prglngth  nbrnaliv  agecon  \\\n",
       "0   60418        1           5.0           4.0        40       1.0    2000   \n",
       "1   60418        1           4.0          12.0        36       1.0    2291   \n",
       "2   60418        1           5.0           4.0        36       1.0    3241   \n",
       "3   60419        6           NaN           NaN        33       NaN    3650   \n",
       "4   60420        1           8.0          13.0        41       1.0    2191   \n",
       "\n",
       "   agepreg  hpagelb  wgt2013_2015  \n",
       "0   2075.0     22.0   3554.964843  \n",
       "1   2358.0     25.0   3554.964843  \n",
       "2   3308.0     52.0   3554.964843  \n",
       "3      NaN      NaN   2484.535358  \n",
       "4   2266.0     24.0   2903.782914  "
      ]
     },
     "execution_count": 6,
     "metadata": {},
     "output_type": "execute_result"
    }
   ],
   "source": [
    "# Display the first 5 (default) rows of the dataframe with column names\n",
    "nsfg.head()"
   ]
  },
  {
   "cell_type": "code",
   "execution_count": 7,
   "metadata": {},
   "outputs": [
    {
     "name": "stdout",
     "output_type": "stream",
     "text": [
      "<class 'pandas.core.frame.DataFrame'>\n",
      "Int64Index: 9358 entries, 0 to 9357\n",
      "Data columns (total 10 columns):\n",
      " #   Column        Non-Null Count  Dtype  \n",
      "---  ------        --------------  -----  \n",
      " 0   caseid        9358 non-null   int64  \n",
      " 1   outcome       9358 non-null   int64  \n",
      " 2   birthwgt_lb1  6485 non-null   float64\n",
      " 3   birthwgt_oz1  6391 non-null   float64\n",
      " 4   prglngth      9358 non-null   int64  \n",
      " 5   nbrnaliv      6485 non-null   float64\n",
      " 6   agecon        9358 non-null   int64  \n",
      " 7   agepreg       9109 non-null   float64\n",
      " 8   hpagelb       6485 non-null   float64\n",
      " 9   wgt2013_2015  9358 non-null   float64\n",
      "dtypes: float64(6), int64(4)\n",
      "memory usage: 804.2 KB\n"
     ]
    }
   ],
   "source": [
    "# Review the date types and look for missing values using .info() method\n",
    "nsfg.info()"
   ]
  },
  {
   "cell_type": "markdown",
   "metadata": {},
   "source": [
    "# <span style=\"color:blue\">Check and validate each column to prepare for data analysis</span>\n",
    "\n",
    "Process for each column is as follows:\n",
    "- [x] Review data distribution by using <span style=\"color:blue\">.value_counts()</span>  method\n",
    "- [x] Review Codebook listing of values and distributions and compare\n",
    "- [x] Change datatype if necessary (categorical, datetime, int, float etc.)\n",
    "- [x] Look at the summary statistics of a column using <span style=\"color:blue\">.describe()</span> method\n",
    "- [x] Plot histogram to visualize results using <span style=\"color:blue\">matplotlib or seaborn</span>\n",
    "- [x] Replace 'missing' values or 'bad' values with NaN using <span style=\"color:blue\">.replace()</span>  method\n",
    "- [x] Plot histogram to review results using <span style=\"color:blue\">matplotlib or seaborn</span>\n",
    "\n",
    "Columns to be examined:\n",
    "1. [outcome](#outcome-validate)\n",
    "2. [birthwgt_lb1](#birthwgt_lb1-validate)\n",
    "3. [birthwgt_oz1](#birthwgt_oz1-validate)\n",
    "4. [prglngth](#prglngth-validate)\n",
    "5. [nbrnaliv](#nbrnaliv-validate)\n",
    "6. [agecon](#agecon-validate)\n",
    "7. [agepreg](#agepreg-validate)\n",
    "8. [hpagelb](#hpagelb-validate)\n",
    "9. [wgt2013-2015](#wgt2013-2015)"
   ]
  },
  {
   "cell_type": "markdown",
   "metadata": {},
   "source": [
    "<a id=\"outcome-validate\"></a>"
   ]
  },
  {
   "cell_type": "markdown",
   "metadata": {},
   "source": [
    "## 'outcome' column examination"
   ]
  },
  {
   "cell_type": "code",
   "execution_count": 8,
   "metadata": {
    "scrolled": true
   },
   "outputs": [
    {
     "data": {
      "text/plain": [
       "1    6489\n",
       "2     947\n",
       "3      86\n",
       "4    1469\n",
       "5     118\n",
       "6     249\n",
       "Name: outcome, dtype: int64"
      ]
     },
     "execution_count": 8,
     "metadata": {},
     "output_type": "execute_result"
    }
   ],
   "source": [
    "# Validate 'outcome' column data using .value_counts() and .sort_index() to order index\n",
    "nsfg['outcome'].value_counts().sort_index()"
   ]
  },
  {
   "cell_type": "markdown",
   "metadata": {},
   "source": [
    "### Validate results by comparing to the codebook \n",
    "The codebook lists the values and their frequencies\n",
    "![outcome](images/outcome.jpg)  \n",
    "\n",
    "\n",
    "From the Codebook we see that the datatype should be categorical but it is encoded as an 'int'"
   ]
  },
  {
   "cell_type": "code",
   "execution_count": 9,
   "metadata": {},
   "outputs": [],
   "source": [
    "nsfg['outcome'] = nsfg['outcome'].astype('category')"
   ]
  },
  {
   "cell_type": "code",
   "execution_count": 10,
   "metadata": {},
   "outputs": [
    {
     "data": {
      "text/plain": [
       "CategoricalDtype(categories=[1, 2, 3, 4, 5, 6], ordered=False)"
      ]
     },
     "execution_count": 10,
     "metadata": {},
     "output_type": "execute_result"
    }
   ],
   "source": [
    "nsfg['outcome'].dtype"
   ]
  },
  {
   "cell_type": "code",
   "execution_count": 11,
   "metadata": {},
   "outputs": [
    {
     "data": {
      "text/plain": [
       "count     9358\n",
       "unique       6\n",
       "top          1\n",
       "freq      6489\n",
       "Name: outcome, dtype: int64"
      ]
     },
     "execution_count": 11,
     "metadata": {},
     "output_type": "execute_result"
    }
   ],
   "source": [
    "# Look at the summary statistics of a column using .describe() method\n",
    "nsfg['outcome'].describe()"
   ]
  },
  {
   "cell_type": "code",
   "execution_count": 12,
   "metadata": {},
   "outputs": [
    {
     "data": {
      "text/plain": [
       "<seaborn.axisgrid.FacetGrid at 0x267aa15d488>"
      ]
     },
     "execution_count": 12,
     "metadata": {},
     "output_type": "execute_result"
    },
    {
     "data": {
      "image/png": "[encoded data removed]",
      "text/plain": [
       "<Figure size 360x360 with 1 Axes>"
      ]
     },
     "metadata": {
      "needs_background": "light"
     },
     "output_type": "display_data"
    }
   ],
   "source": [
    "# Using Seaborn to plot a histogram to visuall examine distribution\n",
    "sns.catplot(data=nsfg,x='outcome',kind='count')"
   ]
  },
  {
   "cell_type": "markdown",
   "metadata": {},
   "source": [
    "These results don't appear to have 'missing data', so no replace is necessary"
   ]
  },
  {
   "cell_type": "markdown",
   "metadata": {},
   "source": [
    "<a id=\"birthwgt_lb1-validate\"></a>"
   ]
  },
  {
   "cell_type": "markdown",
   "metadata": {},
   "source": [
    "## 'birthwgt_lb1' column examination"
   ]
  },
  {
   "cell_type": "code",
   "execution_count": 13,
   "metadata": {},
   "outputs": [
    {
     "data": {
      "text/plain": [
       "0.0        6\n",
       "1.0       34\n",
       "2.0       47\n",
       "3.0       67\n",
       "4.0      196\n",
       "5.0      586\n",
       "6.0     1666\n",
       "7.0     2146\n",
       "8.0     1168\n",
       "9.0      363\n",
       "10.0      82\n",
       "11.0      17\n",
       "12.0       7\n",
       "13.0       2\n",
       "14.0       2\n",
       "17.0       1\n",
       "98.0       1\n",
       "99.0      94\n",
       "Name: birthwgt_lb1, dtype: int64"
      ]
     },
     "execution_count": 13,
     "metadata": {},
     "output_type": "execute_result"
    }
   ],
   "source": [
    "# Validate pounds(birthwgt_lb1) data using .value_counts() and .sort_index() to order index\n",
    "nsfg['birthwgt_lb1'].value_counts().sort_index()"
   ]
  },
  {
   "cell_type": "markdown",
   "metadata": {},
   "source": [
    "### Validate results by comparing to the codebook \n",
    "The codebook lists the values and their frequencies\n",
    "![birthwgt_lb1](images/birthwgt_lb1.jpg)  \n",
    "\n",
    "\n",
    "The datatype appears to be correct as an int64.  \n",
    "The results agree with the codebook so we have some confidence we are reading and interpreting the data correctly"
   ]
  },
  {
   "cell_type": "code",
   "execution_count": 14,
   "metadata": {},
   "outputs": [
    {
     "data": {
      "text/plain": [
       "count    6485.000000\n",
       "mean        8.055204\n",
       "std        11.178893\n",
       "min         0.000000\n",
       "25%         6.000000\n",
       "50%         7.000000\n",
       "75%         8.000000\n",
       "max        99.000000\n",
       "Name: birthwgt_lb1, dtype: float64"
      ]
     },
     "execution_count": 14,
     "metadata": {},
     "output_type": "execute_result"
    }
   ],
   "source": [
    "# Look at the summary statistics of a column using .describe() method\n",
    "nsfg['birthwgt_lb1'].describe()"
   ]
  },
  {
   "cell_type": "code",
   "execution_count": 15,
   "metadata": {},
   "outputs": [
    {
     "data": {
      "text/plain": [
       "<AxesSubplot:xlabel='birthwgt_lb1', ylabel='Count'>"
      ]
     },
     "execution_count": 15,
     "metadata": {},
     "output_type": "execute_result"
    },
    {
     "data": {
      "image/png": "[encoded data removed]",
      "text/plain": [
       "<Figure size 432x288 with 1 Axes>"
      ]
     },
     "metadata": {
      "needs_background": "light"
     },
     "output_type": "display_data"
    }
   ],
   "source": [
    "# Using Seaborn to plot a histogram to visuall examine distribution\n",
    "sns.histplot(nsfg,x='birthwgt_lb1')"
   ]
  },
  {
   "cell_type": "markdown",
   "metadata": {},
   "source": [
    "These results are including the 'missing data' values of 98 and 99 which are highly skewing the data\n",
    "In order to get a meaningful statistical summary we need to replace those values with 'NaN'"
   ]
  },
  {
   "cell_type": "code",
   "execution_count": 16,
   "metadata": {},
   "outputs": [],
   "source": [
    "# Replace the 'missing data' values of 98 and 99 with 'NaN'\n",
    "nsfg['birthwgt_lb1'].replace([98,99], np.nan, inplace=True)"
   ]
  },
  {
   "cell_type": "code",
   "execution_count": 17,
   "metadata": {},
   "outputs": [
    {
     "data": {
      "text/plain": [
       "count    6390.000000\n",
       "mean        6.703286\n",
       "std         1.429265\n",
       "min         0.000000\n",
       "25%         6.000000\n",
       "50%         7.000000\n",
       "75%         8.000000\n",
       "max        17.000000\n",
       "Name: birthwgt_lb1, dtype: float64"
      ]
     },
     "execution_count": 17,
     "metadata": {},
     "output_type": "execute_result"
    }
   ],
   "source": [
    "# Now look at the summary statistics and see how the mean has changed!\n",
    "nsfg['birthwgt_lb1'].describe()"
   ]
  },
  {
   "cell_type": "markdown",
   "metadata": {},
   "source": [
    "The mean has shifted from 8.06 lbs to 6.7 lbs by removing ninety-four 99lb babies!"
   ]
  },
  {
   "cell_type": "code",
   "execution_count": 18,
   "metadata": {
    "scrolled": true
   },
   "outputs": [
    {
     "data": {
      "text/plain": [
       "<AxesSubplot:xlabel='birthwgt_lb1', ylabel='Count'>"
      ]
     },
     "execution_count": 18,
     "metadata": {},
     "output_type": "execute_result"
    },
    {
     "data": {
      "image/png": "[encoded data removed]",
      "text/plain": [
       "<Figure size 432x288 with 1 Axes>"
      ]
     },
     "metadata": {
      "needs_background": "light"
     },
     "output_type": "display_data"
    }
   ],
   "source": [
    "# Using Seaborn to plot a histogram to visuall examine distribution\n",
    "sns.histplot(nsfg,x='birthwgt_lb1')"
   ]
  },
  {
   "cell_type": "markdown",
   "metadata": {},
   "source": [
    "<a id=\"birthwgt_oz1-validate\"></a>"
   ]
  },
  {
   "cell_type": "markdown",
   "metadata": {},
   "source": [
    "### birthwgt_oz1 column examination"
   ]
  },
  {
   "cell_type": "code",
   "execution_count": 19,
   "metadata": {},
   "outputs": [
    {
     "data": {
      "text/plain": [
       "0.0     757\n",
       "1.0     297\n",
       "2.0     429\n",
       "3.0     393\n",
       "4.0     386\n",
       "5.0     407\n",
       "6.0     543\n",
       "7.0     346\n",
       "8.0     518\n",
       "9.0     377\n",
       "10.0    295\n",
       "11.0    418\n",
       "12.0    388\n",
       "13.0    275\n",
       "14.0    258\n",
       "15.0    268\n",
       "98.0      1\n",
       "99.0     35\n",
       "Name: birthwgt_oz1, dtype: int64"
      ]
     },
     "execution_count": 19,
     "metadata": {},
     "output_type": "execute_result"
    }
   ],
   "source": [
    "# Validate pounds(birthwgt_oz1) data using .value_counts() and .sort_index() to order index\n",
    "nsfg['birthwgt_oz1'].value_counts().sort_index()"
   ]
  },
  {
   "cell_type": "markdown",
   "metadata": {},
   "source": [
    "### Validate results by comparing to the codebook \n",
    "The codebook lists the values and their frequencies\n",
    "![birthwgt_oz1](images/birthwgt_oz1.jpg)  \n",
    "\n",
    "\n",
    "The datatype appears to be correct as an int64.  \n",
    "The results agree with the codebook so we have some confidence we are reading and interpreting the data correctly"
   ]
  },
  {
   "cell_type": "code",
   "execution_count": 20,
   "metadata": {},
   "outputs": [
    {
     "data": {
      "text/plain": [
       "count    6391.000000\n",
       "mean        7.213895\n",
       "std         8.254885\n",
       "min         0.000000\n",
       "25%         3.000000\n",
       "50%         6.000000\n",
       "75%        11.000000\n",
       "max        99.000000\n",
       "Name: birthwgt_oz1, dtype: float64"
      ]
     },
     "execution_count": 20,
     "metadata": {},
     "output_type": "execute_result"
    }
   ],
   "source": [
    "# Look at the summary statistics of a column using .describe() method\n",
    "nsfg['birthwgt_oz1'].describe()"
   ]
  },
  {
   "cell_type": "code",
   "execution_count": 21,
   "metadata": {},
   "outputs": [
    {
     "data": {
      "text/plain": [
       "<AxesSubplot:xlabel='birthwgt_oz1', ylabel='Count'>"
      ]
     },
     "execution_count": 21,
     "metadata": {},
     "output_type": "execute_result"
    },
    {
     "data": {
      "image/png": "[encoded data removed]",
      "text/plain": [
       "<Figure size 432x288 with 1 Axes>"
      ]
     },
     "metadata": {
      "needs_background": "light"
     },
     "output_type": "display_data"
    }
   ],
   "source": [
    "# Using Seaborn to plot a histogram to visuall examine distribution\n",
    "sns.histplot(nsfg,x='birthwgt_oz1')"
   ]
  },
  {
   "cell_type": "markdown",
   "metadata": {},
   "source": [
    "These results are including the 'missing data' values of 98 and 99 which are highly skewing the data\n",
    "In order to get a meaningful statistical summary we need to replace those values with 'NaN'"
   ]
  },
  {
   "cell_type": "code",
   "execution_count": 22,
   "metadata": {},
   "outputs": [],
   "source": [
    "# Replace the 'missing data' values of 98 and 99 with 'NaN'\n",
    "nsfg['birthwgt_oz1'].replace([98,99], np.nan, inplace=True)"
   ]
  },
  {
   "cell_type": "code",
   "execution_count": 23,
   "metadata": {},
   "outputs": [
    {
     "data": {
      "text/plain": [
       "count    6355.000000\n",
       "mean        6.694099\n",
       "std         4.533847\n",
       "min         0.000000\n",
       "25%         3.000000\n",
       "50%         6.000000\n",
       "75%        11.000000\n",
       "max        15.000000\n",
       "Name: birthwgt_oz1, dtype: float64"
      ]
     },
     "execution_count": 23,
     "metadata": {},
     "output_type": "execute_result"
    }
   ],
   "source": [
    "# Now look at the summary statistics and see how the mean has changed!\n",
    "nsfg['birthwgt_oz1'].describe()"
   ]
  },
  {
   "cell_type": "markdown",
   "metadata": {},
   "source": [
    "The mean has shifted from 7.21 to 6.7 ozs by removing thirty-five 990z babies!"
   ]
  },
  {
   "cell_type": "code",
   "execution_count": 25,
   "metadata": {},
   "outputs": [
    {
     "data": {
      "text/plain": [
       "0.0     757\n",
       "1.0     297\n",
       "2.0     429\n",
       "3.0     393\n",
       "4.0     386\n",
       "5.0     407\n",
       "6.0     543\n",
       "7.0     346\n",
       "8.0     518\n",
       "9.0     377\n",
       "10.0    295\n",
       "11.0    418\n",
       "12.0    388\n",
       "13.0    275\n",
       "14.0    258\n",
       "15.0    268\n",
       "Name: birthwgt_oz1, dtype: int64"
      ]
     },
     "execution_count": 25,
     "metadata": {},
     "output_type": "execute_result"
    }
   ],
   "source": [
    "# Validate pounds(birthwgt_oz1) data using .value_counts() and .sort_index() to order index\n",
    "nsfg['birthwgt_oz1'].value_counts().sort_index()"
   ]
  },
  {
   "cell_type": "code",
   "execution_count": 24,
   "metadata": {
    "scrolled": false
   },
   "outputs": [
    {
     "data": {
      "text/plain": [
       "<AxesSubplot:xlabel='birthwgt_oz1', ylabel='Count'>"
      ]
     },
     "execution_count": 24,
     "metadata": {},
     "output_type": "execute_result"
    },
    {
     "data": {
      "image/png": "[encoded data removed]",
      "text/plain": [
       "<Figure size 432x288 with 1 Axes>"
      ]
     },
     "metadata": {
      "needs_background": "light"
     },
     "output_type": "display_data"
    }
   ],
   "source": [
    "# Using Seaborn to plot a histogram to visuall examine distribution\n",
    "sns.histplot(nsfg,x='birthwgt_oz1')"
   ]
  },
  {
   "cell_type": "markdown",
   "metadata": {},
   "source": [
    "Not sure why the plot appears to have gaps (maybe the tick marks are off?)"
   ]
  },
  {
   "cell_type": "markdown",
   "metadata": {},
   "source": [
    "<a id=\"prglngth-validate\"></a>"
   ]
  },
  {
   "cell_type": "markdown",
   "metadata": {},
   "source": [
    "### 'prglngth' column examination"
   ]
  },
  {
   "cell_type": "code",
   "execution_count": 26,
   "metadata": {},
   "outputs": [
    {
     "data": {
      "text/plain": [
       "0        7\n",
       "1       11\n",
       "2       50\n",
       "3      102\n",
       "4      274\n",
       "5      128\n",
       "6      375\n",
       "7      185\n",
       "8      299\n",
       "9      331\n",
       "10     125\n",
       "11      82\n",
       "12     132\n",
       "13     222\n",
       "14      39\n",
       "15      27\n",
       "16      40\n",
       "17      85\n",
       "18      25\n",
       "19      25\n",
       "20      21\n",
       "21       9\n",
       "22      76\n",
       "23       7\n",
       "24      25\n",
       "25      13\n",
       "26      58\n",
       "27      17\n",
       "28      39\n",
       "29      25\n",
       "30      95\n",
       "31      15\n",
       "32     118\n",
       "33      35\n",
       "34      73\n",
       "35     239\n",
       "36     313\n",
       "37     432\n",
       "38     755\n",
       "39    2384\n",
       "40    1311\n",
       "41     422\n",
       "42     231\n",
       "43      65\n",
       "44       9\n",
       "45       3\n",
       "46       3\n",
       "48       1\n",
       "Name: prglngth, dtype: int64"
      ]
     },
     "execution_count": 26,
     "metadata": {},
     "output_type": "execute_result"
    }
   ],
   "source": [
    "# Validate pounds(prglngth) data using .value_counts() and .sort_index() to order index\n",
    "nsfg['prglngth'].value_counts().sort_index()"
   ]
  },
  {
   "cell_type": "markdown",
   "metadata": {},
   "source": [
    "### Validate results by comparing to the codebook \n",
    "The codebook lists the values and their frequencies\n",
    "![prglngth](images/prglngth.jpg)  \n",
    "\n",
    "\n",
    "The datatype appears to be correct as an int64.  \n",
    "The results agree with the codebook so we have some confidence we are reading and interpreting the data correctly"
   ]
  },
  {
   "cell_type": "code",
   "execution_count": 27,
   "metadata": {},
   "outputs": [
    {
     "data": {
      "text/plain": [
       "count    9358.000000\n",
       "mean       29.896345\n",
       "std        13.685389\n",
       "min         0.000000\n",
       "25%        14.000000\n",
       "50%        38.000000\n",
       "75%        39.000000\n",
       "max        48.000000\n",
       "Name: prglngth, dtype: float64"
      ]
     },
     "execution_count": 27,
     "metadata": {},
     "output_type": "execute_result"
    }
   ],
   "source": [
    "# Look at the summary statistics of a column using .describe() method\n",
    "nsfg['prglngth'].describe()"
   ]
  },
  {
   "cell_type": "code",
   "execution_count": 28,
   "metadata": {},
   "outputs": [
    {
     "data": {
      "text/plain": [
       "<AxesSubplot:xlabel='prglngth', ylabel='Count'>"
      ]
     },
     "execution_count": 28,
     "metadata": {},
     "output_type": "execute_result"
    },
    {
     "data": {
      "image/png": "[encoded data removed]",
      "text/plain": [
       "<Figure size 432x288 with 1 Axes>"
      ]
     },
     "metadata": {
      "needs_background": "light"
     },
     "output_type": "display_data"
    }
   ],
   "source": [
    "# Using Seaborn to plot a histogram to visuall examine distribution\n",
    "sns.histplot(nsfg,x='prglngth')"
   ]
  },
  {
   "cell_type": "markdown",
   "metadata": {},
   "source": [
    "These results don't appear to have 'missing data' and the datatype makes sense as an 'int' so no replace those values with 'NaN'"
   ]
  },
  {
   "cell_type": "markdown",
   "metadata": {},
   "source": [
    "<a id=\"nbrnaliv-validate\"></a>"
   ]
  },
  {
   "cell_type": "markdown",
   "metadata": {},
   "source": [
    "### 'nbrnaliv' column examination"
   ]
  },
  {
   "cell_type": "code",
   "execution_count": 29,
   "metadata": {},
   "outputs": [
    {
     "data": {
      "text/plain": [
       "1.0    6379\n",
       "2.0     100\n",
       "3.0       5\n",
       "8.0       1\n",
       "Name: nbrnaliv, dtype: int64"
      ]
     },
     "execution_count": 29,
     "metadata": {},
     "output_type": "execute_result"
    }
   ],
   "source": [
    "# Validate pounds(nbrnaliv) data using .value_counts() and .sort_index() to order index\n",
    "nsfg['nbrnaliv'].value_counts().sort_index()"
   ]
  },
  {
   "cell_type": "markdown",
   "metadata": {},
   "source": [
    "### Validate results by comparing to the codebook \n",
    "The codebook lists the values and their frequencies\n",
    "![nbrnaliv](images/nbrnaliv.jpg)  \n",
    "\n",
    "\n",
    "From the Codebook we see that the datatype should be categorical but it is encoded as an 'int'"
   ]
  },
  {
   "cell_type": "code",
   "execution_count": 34,
   "metadata": {},
   "outputs": [],
   "source": [
    "nsfg['nbrnaliv'] = nsfg['nbrnaliv'].astype('category')"
   ]
  },
  {
   "cell_type": "code",
   "execution_count": 35,
   "metadata": {},
   "outputs": [
    {
     "data": {
      "text/plain": [
       "CategoricalDtype(categories=[1.0, 2.0, 3.0], ordered=False)"
      ]
     },
     "execution_count": 35,
     "metadata": {},
     "output_type": "execute_result"
    }
   ],
   "source": [
    "nsfg['nbrnaliv'].dtype"
   ]
  },
  {
   "cell_type": "code",
   "execution_count": 36,
   "metadata": {},
   "outputs": [
    {
     "data": {
      "text/plain": [
       "count     6484.0\n",
       "unique       3.0\n",
       "top          1.0\n",
       "freq      6379.0\n",
       "Name: nbrnaliv, dtype: float64"
      ]
     },
     "execution_count": 36,
     "metadata": {},
     "output_type": "execute_result"
    }
   ],
   "source": [
    "# Look at the summary statistics of a column using .describe() method\n",
    "nsfg['nbrnaliv'].describe()"
   ]
  },
  {
   "cell_type": "code",
   "execution_count": 37,
   "metadata": {
    "scrolled": false
   },
   "outputs": [
    {
     "data": {
      "text/plain": [
       "<seaborn.axisgrid.FacetGrid at 0x267aafcee48>"
      ]
     },
     "execution_count": 37,
     "metadata": {},
     "output_type": "execute_result"
    },
    {
     "data": {
      "image/png": "[encoded data removed]",
      "text/plain": [
       "<Figure size 360x360 with 1 Axes>"
      ]
     },
     "metadata": {
      "needs_background": "light"
     },
     "output_type": "display_data"
    }
   ],
   "source": [
    "# Using Seaborn to plot a histogram to visuall examine distribution\n",
    "sns.catplot(data=nsfg,x='nbrnaliv',kind='count')"
   ]
  },
  {
   "cell_type": "markdown",
   "metadata": {},
   "source": [
    "<a id=\"agecon-validate\"></a>"
   ]
  },
  {
   "cell_type": "markdown",
   "metadata": {},
   "source": [
    "### agecon column examination"
   ]
  },
  {
   "cell_type": "code",
   "execution_count": 40,
   "metadata": {},
   "outputs": [
    {
     "data": {
      "text/plain": [
       "750     1\n",
       "833     1\n",
       "925     1\n",
       "950     1\n",
       "1066    1\n",
       "       ..\n",
       "4266    2\n",
       "4291    3\n",
       "4325    1\n",
       "4333    1\n",
       "4350    1\n",
       "Name: agecon, Length: 368, dtype: int64"
      ]
     },
     "execution_count": 40,
     "metadata": {},
     "output_type": "execute_result"
    }
   ],
   "source": [
    "# Validate pounds(agecon) data using .value_counts() and .sort_index() to order index\n",
    "nsfg['agecon'].value_counts().sort_index()"
   ]
  },
  {
   "cell_type": "markdown",
   "metadata": {},
   "source": [
    "### Validate results by comparing to the codebook \n",
    "The codebook lists the values and their frequencies\n",
    "![agecon](images/agecon.jpg)  \n",
    "\n",
    "\n",
    "The datatype appears to be correct as an int64, but the data would much more useful if it demarked the years by adding a decimal two digits in so 2000 would become 20.00 years \n",
    "The results agree with the codebook so we have some confidence we are reading and interpreting the data correctly"
   ]
  },
  {
   "cell_type": "code",
   "execution_count": 43,
   "metadata": {},
   "outputs": [],
   "source": [
    "# transform the 4 digit age code into a two digit age with a decimal portion of the portion of the next year\n",
    "nsfg['agecon'] = nsfg['agecon'] / 100.0"
   ]
  },
  {
   "cell_type": "code",
   "execution_count": 44,
   "metadata": {},
   "outputs": [
    {
     "data": {
      "text/plain": [
       "count    9358.000000\n",
       "mean       24.463302\n",
       "std         5.793924\n",
       "min         7.500000\n",
       "25%        19.830000\n",
       "50%        23.660000\n",
       "75%        28.500000\n",
       "max        43.500000\n",
       "Name: agecon, dtype: float64"
      ]
     },
     "execution_count": 44,
     "metadata": {},
     "output_type": "execute_result"
    }
   ],
   "source": [
    "# Look at the summary statistics of a column using .describe() method\n",
    "nsfg['agecon'].describe()"
   ]
  },
  {
   "cell_type": "code",
   "execution_count": 45,
   "metadata": {
    "scrolled": true
   },
   "outputs": [
    {
     "data": {
      "text/plain": [
       "<AxesSubplot:xlabel='agecon', ylabel='Count'>"
      ]
     },
     "execution_count": 45,
     "metadata": {},
     "output_type": "execute_result"
    },
    {
     "data": {
      "image/png": "[encoded data removed]",
      "text/plain": [
       "<Figure size 432x288 with 1 Axes>"
      ]
     },
     "metadata": {
      "needs_background": "light"
     },
     "output_type": "display_data"
    }
   ],
   "source": [
    "# Using Seaborn to plot a histogram to visuall examine distribution\n",
    "sns.histplot(nsfg,x='agecon')"
   ]
  },
  {
   "cell_type": "markdown",
   "metadata": {},
   "source": [
    "These results don't appear to have missing data so no replace is necessary"
   ]
  },
  {
   "cell_type": "code",
   "execution_count": 47,
   "metadata": {},
   "outputs": [
    {
     "data": {
      "text/plain": [
       "dtype('float64')"
      ]
     },
     "execution_count": 47,
     "metadata": {},
     "output_type": "execute_result"
    }
   ],
   "source": [
    "# Validate pounds(agecon) data using .value_counts() and .sort_index() to order index\n",
    "nsfg['agecon'].dtype"
   ]
  },
  {
   "cell_type": "markdown",
   "metadata": {},
   "source": [
    "<a id=\"agepreg-validate\"></a>"
   ]
  },
  {
   "cell_type": "markdown",
   "metadata": {},
   "source": [
    "## 'agepreg' column examination"
   ]
  },
  {
   "cell_type": "code",
   "execution_count": 48,
   "metadata": {},
   "outputs": [
    {
     "data": {
      "text/plain": [
       "825.0     1\n",
       "908.0     1\n",
       "958.0     1\n",
       "1025.0    1\n",
       "1075.0    1\n",
       "         ..\n",
       "4291.0    1\n",
       "4300.0    1\n",
       "4325.0    1\n",
       "4341.0    1\n",
       "4350.0    1\n",
       "Name: agepreg, Length: 370, dtype: int64"
      ]
     },
     "execution_count": 48,
     "metadata": {},
     "output_type": "execute_result"
    }
   ],
   "source": [
    "# Validate pounds(agepreg) data using .value_counts() and .sort_index() to order index\n",
    "nsfg['agepreg'].value_counts().sort_index()"
   ]
  },
  {
   "cell_type": "markdown",
   "metadata": {},
   "source": [
    "### Validate results by comparing to the codebook \n",
    "The codebook lists the values and their frequencies\n",
    "![agepreg](images/agepreg.jpg)  \n",
    "\n",
    "\n",
    "The datatype appears to be correct as an int64, but the data would much more useful if it demarked the years by adding a decimal two digits in so 2000 would become 20.00 years \n",
    "The results agree with the codebook so we have some confidence we are reading and interpreting the data correctly"
   ]
  },
  {
   "cell_type": "code",
   "execution_count": 49,
   "metadata": {},
   "outputs": [],
   "source": [
    "# transform the 4 digit age code into a two digit age with a decimal portion of the portion of the next year\n",
    "nsfg['agepreg'] = nsfg['agepreg'] / 100.0"
   ]
  },
  {
   "cell_type": "code",
   "execution_count": 50,
   "metadata": {},
   "outputs": [
    {
     "data": {
      "text/plain": [
       "count    9109.000000\n",
       "mean       24.949346\n",
       "std         5.780992\n",
       "min         8.250000\n",
       "25%        20.410000\n",
       "50%        24.160000\n",
       "75%        29.000000\n",
       "max        43.500000\n",
       "Name: agepreg, dtype: float64"
      ]
     },
     "execution_count": 50,
     "metadata": {},
     "output_type": "execute_result"
    }
   ],
   "source": [
    "# Look at the summary statistics of a column using .describe() method\n",
    "nsfg['agepreg'].describe()"
   ]
  },
  {
   "cell_type": "code",
   "execution_count": 51,
   "metadata": {
    "scrolled": false
   },
   "outputs": [
    {
     "data": {
      "text/plain": [
       "<AxesSubplot:xlabel='agepreg', ylabel='Count'>"
      ]
     },
     "execution_count": 51,
     "metadata": {},
     "output_type": "execute_result"
    },
    {
     "data": {
      "image/png": "[encoded data removed]",
      "text/plain": [
       "<Figure size 432x288 with 1 Axes>"
      ]
     },
     "metadata": {
      "needs_background": "light"
     },
     "output_type": "display_data"
    }
   ],
   "source": [
    "# Using Seaborn to plot a histogram to visuall examine distribution\n",
    "sns.histplot(nsfg,x='agepreg')"
   ]
  },
  {
   "cell_type": "markdown",
   "metadata": {},
   "source": [
    "These results don't appear to have missing data so no replace is necessary"
   ]
  },
  {
   "cell_type": "markdown",
   "metadata": {},
   "source": [
    "<a id=\"hpagelb-validate\"></a>"
   ]
  },
  {
   "cell_type": "markdown",
   "metadata": {},
   "source": [
    "## 'hpagelb' column examination"
   ]
  },
  {
   "cell_type": "code",
   "execution_count": 55,
   "metadata": {},
   "outputs": [
    {
     "data": {
      "text/plain": [
       "5.0       1\n",
       "8.0       1\n",
       "12.0      1\n",
       "13.0      3\n",
       "14.0      1\n",
       "15.0     15\n",
       "16.0     45\n",
       "17.0    103\n",
       "18.0    185\n",
       "19.0    242\n",
       "20.0    261\n",
       "21.0    323\n",
       "22.0    332\n",
       "23.0    353\n",
       "24.0    364\n",
       "25.0    412\n",
       "26.0    324\n",
       "27.0    341\n",
       "28.0    355\n",
       "29.0    316\n",
       "30.0    304\n",
       "31.0    256\n",
       "32.0    255\n",
       "33.0    209\n",
       "34.0    211\n",
       "35.0    183\n",
       "36.0    154\n",
       "37.0    135\n",
       "38.0    140\n",
       "39.0     86\n",
       "40.0    103\n",
       "41.0     70\n",
       "42.0     64\n",
       "43.0     47\n",
       "44.0     38\n",
       "45.0     57\n",
       "46.0     31\n",
       "47.0     10\n",
       "48.0     17\n",
       "49.0     20\n",
       "50.0      7\n",
       "51.0      9\n",
       "52.0      7\n",
       "53.0      4\n",
       "54.0      1\n",
       "55.0      7\n",
       "57.0      3\n",
       "58.0      1\n",
       "59.0      1\n",
       "60.0      3\n",
       "65.0      1\n",
       "98.0      2\n",
       "99.0     71\n",
       "Name: hpagelb, dtype: int64"
      ]
     },
     "execution_count": 55,
     "metadata": {},
     "output_type": "execute_result"
    }
   ],
   "source": [
    "# Validate pounds(hpagelb) data using .value_counts() and .sort_index() to order index\n",
    "nsfg['hpagelb'].value_counts().sort_index()"
   ]
  },
  {
   "cell_type": "markdown",
   "metadata": {},
   "source": [
    "### Validate results by comparing to the codebook \n",
    "The codebook lists the values and their frequencies\n",
    "![hpagelb](images/hpagelb.jpg)  \n",
    "![hpagelb2](images/hpagelb2.jpg)\n",
    "\n",
    "The datatype appears to be correct as an int64, but it appears that there are 'missing values' coded as '98' (Refused) and '99' (Don't know). These need to be replaced with NaN"
   ]
  },
  {
   "cell_type": "code",
   "execution_count": 58,
   "metadata": {},
   "outputs": [],
   "source": [
    "# Replace the 'missing data' values of 98 and 99 with 'NaN'\n",
    "nsfg['hpagelb'].replace([98,99], np.nan, inplace=True)"
   ]
  },
  {
   "cell_type": "code",
   "execution_count": 59,
   "metadata": {},
   "outputs": [
    {
     "data": {
      "text/plain": [
       "count    6412.000000\n",
       "mean       28.195415\n",
       "std         7.232034\n",
       "min         5.000000\n",
       "25%        23.000000\n",
       "50%        27.000000\n",
       "75%        33.000000\n",
       "max        65.000000\n",
       "Name: hpagelb, dtype: float64"
      ]
     },
     "execution_count": 59,
     "metadata": {},
     "output_type": "execute_result"
    }
   ],
   "source": [
    "# Now look at the summary statistics and see how the mean has changed!\n",
    "nsfg['hpagelb'].describe()"
   ]
  },
  {
   "cell_type": "code",
   "execution_count": 60,
   "metadata": {},
   "outputs": [
    {
     "data": {
      "text/plain": [
       "5.0       1\n",
       "8.0       1\n",
       "12.0      1\n",
       "13.0      3\n",
       "14.0      1\n",
       "15.0     15\n",
       "16.0     45\n",
       "17.0    103\n",
       "18.0    185\n",
       "19.0    242\n",
       "20.0    261\n",
       "21.0    323\n",
       "22.0    332\n",
       "23.0    353\n",
       "24.0    364\n",
       "25.0    412\n",
       "26.0    324\n",
       "27.0    341\n",
       "28.0    355\n",
       "29.0    316\n",
       "30.0    304\n",
       "31.0    256\n",
       "32.0    255\n",
       "33.0    209\n",
       "34.0    211\n",
       "35.0    183\n",
       "36.0    154\n",
       "37.0    135\n",
       "38.0    140\n",
       "39.0     86\n",
       "40.0    103\n",
       "41.0     70\n",
       "42.0     64\n",
       "43.0     47\n",
       "44.0     38\n",
       "45.0     57\n",
       "46.0     31\n",
       "47.0     10\n",
       "48.0     17\n",
       "49.0     20\n",
       "50.0      7\n",
       "51.0      9\n",
       "52.0      7\n",
       "53.0      4\n",
       "54.0      1\n",
       "55.0      7\n",
       "57.0      3\n",
       "58.0      1\n",
       "59.0      1\n",
       "60.0      3\n",
       "65.0      1\n",
       "Name: hpagelb, dtype: int64"
      ]
     },
     "execution_count": 60,
     "metadata": {},
     "output_type": "execute_result"
    }
   ],
   "source": [
    "# Validate pounds(hpagelb) data using .value_counts() and .sort_index() to order index\n",
    "nsfg['hpagelb'].value_counts().sort_index()"
   ]
  },
  {
   "cell_type": "code",
   "execution_count": 61,
   "metadata": {
    "scrolled": true
   },
   "outputs": [
    {
     "data": {
      "text/plain": [
       "<AxesSubplot:xlabel='hpagelb', ylabel='Count'>"
      ]
     },
     "execution_count": 61,
     "metadata": {},
     "output_type": "execute_result"
    },
    {
     "data": {
      "image/png": "[encoded data removed]",
      "text/plain": [
       "<Figure size 432x288 with 1 Axes>"
      ]
     },
     "metadata": {
      "needs_background": "light"
     },
     "output_type": "display_data"
    }
   ],
   "source": [
    "# Using Seaborn to plot a histogram to visuall examine distribution\n",
    "sns.histplot(nsfg,x='hpagelb')"
   ]
  },
  {
   "cell_type": "code",
   "execution_count": null,
   "metadata": {},
   "outputs": [],
   "source": []
  }
 ],
 "metadata": {
  "kernelspec": {
   "display_name": "Python 3",
   "language": "python",
   "name": "python3"
  },
  "language_info": {
   "codemirror_mode": {
    "name": "ipython",
    "version": 3
   },
   "file_extension": ".py",
   "mimetype": "text/x-python",
   "name": "python",
   "nbconvert_exporter": "python",
   "pygments_lexer": "ipython3",
   "version": "3.7.9"
  }
 },
 "nbformat": 4,
 "nbformat_minor": 4
}
