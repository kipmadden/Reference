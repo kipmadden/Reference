{
 "cells": [
  {
   "cell_type": "markdown",
   "metadata": {},
   "source": [
    "## Getting data from a Database ingestion example from DataCamp exercises\n",
    "\n",
    "From the 'Streamlined Data Ingestion with pandas' course found [here](https://learn.datacamp.com/courses/streamlined-data-ingestion-with-pandas)"
   ]
  },
  {
   "cell_type": "code",
   "execution_count": 1,
   "metadata": {},
   "outputs": [],
   "source": [
    "# Import dependencies\n",
    "import pandas as pd\n",
    "from sqlalchemy import create_engine"
   ]
  },
  {
   "cell_type": "code",
   "execution_count": 2,
   "metadata": {},
   "outputs": [],
   "source": [
    "# Create database engine to manage connections\n",
    "engine = create_engine(\"sqlite:///data/data.db\")"
   ]
  },
  {
   "cell_type": "code",
   "execution_count": 8,
   "metadata": {},
   "outputs": [
    {
     "name": "stdout",
     "output_type": "stream",
     "text": [
      "['boro_census', 'hpd311calls', 'weather']\n"
     ]
    }
   ],
   "source": [
    "# View the tables in the database\n",
    "print(engine.table_names())"
   ]
  },
  {
   "cell_type": "code",
   "execution_count": 3,
   "metadata": {},
   "outputs": [],
   "source": [
    "# Load entire weather table by table name\n",
    "weather = pd.read_sql(\"weather\", engine)"
   ]
  },
  {
   "cell_type": "code",
   "execution_count": 4,
   "metadata": {},
   "outputs": [],
   "source": [
    "# Alternative way to import the entire weather table using SQL\n",
    "weather_SQL = pd.read_sql(\"SELECT * FROM weather\", engine)"
   ]
  },
  {
   "cell_type": "code",
   "execution_count": 7,
   "metadata": {},
   "outputs": [
    {
     "name": "stdout",
     "output_type": "stream",
     "text": [
      "True\n"
     ]
    }
   ],
   "source": [
    "print(weather.equals(weather_SQL))"
   ]
  },
  {
   "cell_type": "code",
   "execution_count": 9,
   "metadata": {},
   "outputs": [],
   "source": [
    "# Create a SQL query to load the entire hpd311calls table\n",
    "query = \"\"\"SELECT * FROM hpd311calls;\"\"\""
   ]
  },
  {
   "cell_type": "code",
   "execution_count": 10,
   "metadata": {},
   "outputs": [],
   "source": [
    "# Load hpd311calls table using variable SQL query\n",
    "hpd311calls = pd.read_sql(query, engine)"
   ]
  },
  {
   "cell_type": "code",
   "execution_count": 11,
   "metadata": {},
   "outputs": [
    {
     "data": {
      "text/html": [
       "<div>\n",
       "<style scoped>\n",
       "    .dataframe tbody tr th:only-of-type {\n",
       "        vertical-align: middle;\n",
       "    }\n",
       "\n",
       "    .dataframe tbody tr th {\n",
       "        vertical-align: top;\n",
       "    }\n",
       "\n",
       "    .dataframe thead th {\n",
       "        text-align: right;\n",
       "    }\n",
       "</style>\n",
       "<table border=\"1\" class=\"dataframe\">\n",
       "  <thead>\n",
       "    <tr style=\"text-align: right;\">\n",
       "      <th></th>\n",
       "      <th>unique_key</th>\n",
       "      <th>created_date</th>\n",
       "      <th>agency</th>\n",
       "      <th>complaint_type</th>\n",
       "      <th>incident_zip</th>\n",
       "      <th>incident_address</th>\n",
       "      <th>community_board</th>\n",
       "      <th>borough</th>\n",
       "    </tr>\n",
       "  </thead>\n",
       "  <tbody>\n",
       "    <tr>\n",
       "      <th>0</th>\n",
       "      <td>38070822</td>\n",
       "      <td>01/01/2018</td>\n",
       "      <td>HPD</td>\n",
       "      <td>HEAT/HOT WATER</td>\n",
       "      <td>10468</td>\n",
       "      <td>2786 JEROME AVENUE</td>\n",
       "      <td>07 BRONX</td>\n",
       "      <td>BRONX</td>\n",
       "    </tr>\n",
       "    <tr>\n",
       "      <th>1</th>\n",
       "      <td>38065299</td>\n",
       "      <td>01/01/2018</td>\n",
       "      <td>HPD</td>\n",
       "      <td>PLUMBING</td>\n",
       "      <td>10003</td>\n",
       "      <td>323 EAST   12 STREET</td>\n",
       "      <td>03 MANHATTAN</td>\n",
       "      <td>MANHATTAN</td>\n",
       "    </tr>\n",
       "    <tr>\n",
       "      <th>2</th>\n",
       "      <td>38066653</td>\n",
       "      <td>01/01/2018</td>\n",
       "      <td>HPD</td>\n",
       "      <td>HEAT/HOT WATER</td>\n",
       "      <td>10452</td>\n",
       "      <td>1235 GRAND CONCOURSE</td>\n",
       "      <td>04 BRONX</td>\n",
       "      <td>BRONX</td>\n",
       "    </tr>\n",
       "    <tr>\n",
       "      <th>3</th>\n",
       "      <td>38070264</td>\n",
       "      <td>01/01/2018</td>\n",
       "      <td>HPD</td>\n",
       "      <td>HEAT/HOT WATER</td>\n",
       "      <td>10032</td>\n",
       "      <td>656 WEST  171 STREET</td>\n",
       "      <td>12 MANHATTAN</td>\n",
       "      <td>MANHATTAN</td>\n",
       "    </tr>\n",
       "    <tr>\n",
       "      <th>4</th>\n",
       "      <td>38072466</td>\n",
       "      <td>01/01/2018</td>\n",
       "      <td>HPD</td>\n",
       "      <td>HEAT/HOT WATER</td>\n",
       "      <td>11213</td>\n",
       "      <td>1030 PARK PLACE</td>\n",
       "      <td>08 BROOKLYN</td>\n",
       "      <td>BROOKLYN</td>\n",
       "    </tr>\n",
       "  </tbody>\n",
       "</table>\n",
       "</div>"
      ],
      "text/plain": [
       "  unique_key created_date agency  complaint_type incident_zip  \\\n",
       "0   38070822   01/01/2018    HPD  HEAT/HOT WATER        10468   \n",
       "1   38065299   01/01/2018    HPD        PLUMBING        10003   \n",
       "2   38066653   01/01/2018    HPD  HEAT/HOT WATER        10452   \n",
       "3   38070264   01/01/2018    HPD  HEAT/HOT WATER        10032   \n",
       "4   38072466   01/01/2018    HPD  HEAT/HOT WATER        11213   \n",
       "\n",
       "       incident_address community_board    borough  \n",
       "0    2786 JEROME AVENUE        07 BRONX      BRONX  \n",
       "1  323 EAST   12 STREET    03 MANHATTAN  MANHATTAN  \n",
       "2  1235 GRAND CONCOURSE        04 BRONX      BRONX  \n",
       "3  656 WEST  171 STREET    12 MANHATTAN  MANHATTAN  \n",
       "4       1030 PARK PLACE     08 BROOKLYN   BROOKLYN  "
      ]
     },
     "execution_count": 11,
     "metadata": {},
     "output_type": "execute_result"
    }
   ],
   "source": [
    "# View the first few rows of hpd311calls data\n",
    "hpd311calls.head()"
   ]
  },
  {
   "cell_type": "markdown",
   "metadata": {},
   "source": [
    "### Create more complicated query"
   ]
  },
  {
   "cell_type": "code",
   "execution_count": 12,
   "metadata": {},
   "outputs": [],
   "source": [
    "# Write query in triple quotes to split line and query records only from Brooklyn\n",
    "query = \"\"\"SELECT *\n",
    "            FROM hpd311calls\n",
    "            WHERE borough = 'BROOKLYN';\"\"\""
   ]
  },
  {
   "cell_type": "code",
   "execution_count": 13,
   "metadata": {},
   "outputs": [],
   "source": [
    "# Query the database\n",
    "brooklyn_calls = pd.read_sql(query, engine)"
   ]
  },
  {
   "cell_type": "code",
   "execution_count": 15,
   "metadata": {},
   "outputs": [
    {
     "name": "stdout",
     "output_type": "stream",
     "text": [
      "['BROOKLYN']\n"
     ]
    }
   ],
   "source": [
    "# Print the results\n",
    "print(brooklyn_calls.borough.unique())"
   ]
  },
  {
   "cell_type": "markdown",
   "metadata": {},
   "source": [
    "### Combining Conditions: AND"
   ]
  },
  {
   "cell_type": "code",
   "execution_count": 16,
   "metadata": {},
   "outputs": [],
   "source": [
    "# Write query to get records about plumbing in the Bronx\n",
    "and_query = \"\"\"SELECT *\n",
    "                FROM hpd311calls\n",
    "                WHERE borough = 'BRONX'\n",
    "                AND complaint_type = 'PLUMBING';\"\"\""
   ]
  },
  {
   "cell_type": "code",
   "execution_count": 17,
   "metadata": {},
   "outputs": [],
   "source": [
    "# Get calls about plumbing issues in the Bronx\n",
    "bx_plumbing_calls = pd.read_sql(and_query, engine)"
   ]
  },
  {
   "cell_type": "code",
   "execution_count": 18,
   "metadata": {},
   "outputs": [
    {
     "data": {
      "text/plain": [
       "(2016, 8)"
      ]
     },
     "execution_count": 18,
     "metadata": {},
     "output_type": "execute_result"
    }
   ],
   "source": [
    "# Check record count\n",
    "bx_plumbing_calls.shape"
   ]
  },
  {
   "cell_type": "markdown",
   "metadata": {},
   "source": [
    "### Combining Conditions: OR"
   ]
  },
  {
   "cell_type": "code",
   "execution_count": null,
   "metadata": {},
   "outputs": [],
   "source": [
    "# Write query to get records about water leaks OR plumbing\n",
    "or_query = \"\"\"SELECT *\n",
    "            FROM hpd311calls\n",
    "            WHERE complaint_type = ''\"\"\""
   ]
  }
 ],
 "metadata": {
  "kernelspec": {
   "display_name": "Python 3",
   "language": "python",
   "name": "python3"
  },
  "language_info": {
   "codemirror_mode": {
    "name": "ipython",
    "version": 3
   },
   "file_extension": ".py",
   "mimetype": "text/x-python",
   "name": "python",
   "nbconvert_exporter": "python",
   "pygments_lexer": "ipython3",
   "version": "3.7.9"
  }
 },
 "nbformat": 4,
 "nbformat_minor": 4
}
