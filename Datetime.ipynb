{
 "cells": [
  {
   "cell_type": "markdown",
   "metadata": {},
   "source": [
    "# Notebook with datetime methods"
   ]
  },
  {
   "cell_type": "markdown",
   "metadata": {},
   "source": [
    "#### Explore Capital-Onebike dataset (2017 Q4) from data.world"
   ]
  },
  {
   "cell_type": "code",
   "execution_count": 1,
   "metadata": {},
   "outputs": [],
   "source": [
    "import pandas as pd\n",
    "rides = pd.read_csv('https://query.data.world/s/wgsnsk2czzssrmxxyffuzbrqkjseft')"
   ]
  },
  {
   "cell_type": "code",
   "execution_count": 2,
   "metadata": {},
   "outputs": [
    {
     "data": {
      "text/html": [
       "<div>\n",
       "<style scoped>\n",
       "    .dataframe tbody tr th:only-of-type {\n",
       "        vertical-align: middle;\n",
       "    }\n",
       "\n",
       "    .dataframe tbody tr th {\n",
       "        vertical-align: top;\n",
       "    }\n",
       "\n",
       "    .dataframe thead th {\n",
       "        text-align: right;\n",
       "    }\n",
       "</style>\n",
       "<table border=\"1\" class=\"dataframe\">\n",
       "  <thead>\n",
       "    <tr style=\"text-align: right;\">\n",
       "      <th></th>\n",
       "      <th>Duration (ms)</th>\n",
       "      <th>Start date</th>\n",
       "      <th>End date</th>\n",
       "      <th>Start station number</th>\n",
       "      <th>Start station</th>\n",
       "      <th>End station number</th>\n",
       "      <th>End station</th>\n",
       "      <th>Bike number</th>\n",
       "      <th>Member type</th>\n",
       "    </tr>\n",
       "  </thead>\n",
       "  <tbody>\n",
       "    <tr>\n",
       "      <th>0</th>\n",
       "      <td>197068</td>\n",
       "      <td>10/1/2017 12:00</td>\n",
       "      <td>10/1/2017 12:03</td>\n",
       "      <td>31214</td>\n",
       "      <td>17th &amp; Corcoran St NW</td>\n",
       "      <td>31229</td>\n",
       "      <td>New Hampshire Ave &amp; T St NW</td>\n",
       "      <td>W21022</td>\n",
       "      <td>Member</td>\n",
       "    </tr>\n",
       "    <tr>\n",
       "      <th>1</th>\n",
       "      <td>434934</td>\n",
       "      <td>10/1/2017 12:00</td>\n",
       "      <td>10/1/2017 12:07</td>\n",
       "      <td>31104</td>\n",
       "      <td>Adams Mill &amp; Columbia Rd NW</td>\n",
       "      <td>31602</td>\n",
       "      <td>Park Rd &amp; Holmead Pl NW</td>\n",
       "      <td>W00470</td>\n",
       "      <td>Member</td>\n",
       "    </tr>\n",
       "    <tr>\n",
       "      <th>2</th>\n",
       "      <td>955437</td>\n",
       "      <td>10/1/2017 12:00</td>\n",
       "      <td>10/1/2017 12:16</td>\n",
       "      <td>31221</td>\n",
       "      <td>18th &amp; M St NW</td>\n",
       "      <td>31103</td>\n",
       "      <td>16th &amp; Harvard St NW</td>\n",
       "      <td>W20206</td>\n",
       "      <td>Member</td>\n",
       "    </tr>\n",
       "    <tr>\n",
       "      <th>3</th>\n",
       "      <td>461619</td>\n",
       "      <td>10/1/2017 12:00</td>\n",
       "      <td>10/1/2017 12:08</td>\n",
       "      <td>31111</td>\n",
       "      <td>10th &amp; U St NW</td>\n",
       "      <td>31102</td>\n",
       "      <td>11th &amp; Kenyon St NW</td>\n",
       "      <td>W21014</td>\n",
       "      <td>Member</td>\n",
       "    </tr>\n",
       "    <tr>\n",
       "      <th>4</th>\n",
       "      <td>3357184</td>\n",
       "      <td>10/1/2017 12:00</td>\n",
       "      <td>10/1/2017 12:56</td>\n",
       "      <td>31260</td>\n",
       "      <td>23rd &amp; E St NW</td>\n",
       "      <td>31260</td>\n",
       "      <td>23rd &amp; E St NW</td>\n",
       "      <td>W22349</td>\n",
       "      <td>Casual</td>\n",
       "    </tr>\n",
       "  </tbody>\n",
       "</table>\n",
       "</div>"
      ],
      "text/plain": [
       "   Duration (ms)       Start date         End date  Start station number  \\\n",
       "0         197068  10/1/2017 12:00  10/1/2017 12:03                 31214   \n",
       "1         434934  10/1/2017 12:00  10/1/2017 12:07                 31104   \n",
       "2         955437  10/1/2017 12:00  10/1/2017 12:16                 31221   \n",
       "3         461619  10/1/2017 12:00  10/1/2017 12:08                 31111   \n",
       "4        3357184  10/1/2017 12:00  10/1/2017 12:56                 31260   \n",
       "\n",
       "                 Start station  End station number  \\\n",
       "0        17th & Corcoran St NW               31229   \n",
       "1  Adams Mill & Columbia Rd NW               31602   \n",
       "2               18th & M St NW               31103   \n",
       "3               10th & U St NW               31102   \n",
       "4              23rd & E St NW                31260   \n",
       "\n",
       "                   End station Bike number Member type  \n",
       "0  New Hampshire Ave & T St NW      W21022      Member  \n",
       "1      Park Rd & Holmead Pl NW      W00470      Member  \n",
       "2         16th & Harvard St NW      W20206      Member  \n",
       "3          11th & Kenyon St NW      W21014      Member  \n",
       "4              23rd & E St NW       W22349      Casual  "
      ]
     },
     "execution_count": 2,
     "metadata": {},
     "output_type": "execute_result"
    }
   ],
   "source": [
    "rides.head()"
   ]
  },
  {
   "cell_type": "code",
   "execution_count": 3,
   "metadata": {},
   "outputs": [
    {
     "name": "stdout",
     "output_type": "stream",
     "text": [
      "<class 'pandas.core.frame.DataFrame'>\n",
      "RangeIndex: 815370 entries, 0 to 815369\n",
      "Data columns (total 9 columns):\n",
      " #   Column                Non-Null Count   Dtype \n",
      "---  ------                --------------   ----- \n",
      " 0   Duration (ms)         815370 non-null  int64 \n",
      " 1   Start date            815370 non-null  object\n",
      " 2   End date              815370 non-null  object\n",
      " 3   Start station number  815370 non-null  int64 \n",
      " 4   Start station         815370 non-null  object\n",
      " 5   End station number    815370 non-null  int64 \n",
      " 6   End station           815370 non-null  object\n",
      " 7   Bike number           815370 non-null  object\n",
      " 8   Member type           815370 non-null  object\n",
      "dtypes: int64(3), object(6)\n",
      "memory usage: 56.0+ MB\n"
     ]
    }
   ],
   "source": [
    "rides.info()"
   ]
  },
  {
   "cell_type": "code",
   "execution_count": 4,
   "metadata": {},
   "outputs": [
    {
     "data": {
      "text/plain": [
       "'10/1/2017 12:00'"
      ]
     },
     "execution_count": 4,
     "metadata": {},
     "output_type": "execute_result"
    }
   ],
   "source": [
    "rides['Start date'].iloc[2]"
   ]
  },
  {
   "cell_type": "markdown",
   "metadata": {},
   "source": [
    "### Note the dates are imported as Dtype \"object\" - which is a string\n",
    "In order to import these columns as datetime we can use the \"parse_dates\" key with a list of columns on import"
   ]
  },
  {
   "cell_type": "code",
   "execution_count": 5,
   "metadata": {},
   "outputs": [],
   "source": [
    "rides = pd.read_csv('https://query.data.world/s/wgsnsk2czzssrmxxyffuzbrqkjseft',\n",
    "                   parse_dates = ['Start date', 'End date'])"
   ]
  },
  {
   "cell_type": "code",
   "execution_count": 6,
   "metadata": {},
   "outputs": [
    {
     "name": "stdout",
     "output_type": "stream",
     "text": [
      "<class 'pandas.core.frame.DataFrame'>\n",
      "RangeIndex: 815370 entries, 0 to 815369\n",
      "Data columns (total 9 columns):\n",
      " #   Column                Non-Null Count   Dtype         \n",
      "---  ------                --------------   -----         \n",
      " 0   Duration (ms)         815370 non-null  int64         \n",
      " 1   Start date            815370 non-null  datetime64[ns]\n",
      " 2   End date              815370 non-null  datetime64[ns]\n",
      " 3   Start station number  815370 non-null  int64         \n",
      " 4   Start station         815370 non-null  object        \n",
      " 5   End station number    815370 non-null  int64         \n",
      " 6   End station           815370 non-null  object        \n",
      " 7   Bike number           815370 non-null  object        \n",
      " 8   Member type           815370 non-null  object        \n",
      "dtypes: datetime64[ns](2), int64(3), object(4)\n",
      "memory usage: 56.0+ MB\n"
     ]
    }
   ],
   "source": [
    "rides.info()"
   ]
  },
  {
   "cell_type": "code",
   "execution_count": 7,
   "metadata": {},
   "outputs": [
    {
     "data": {
      "text/plain": [
       "Timestamp('2017-10-01 12:00:00')"
      ]
     },
     "execution_count": 7,
     "metadata": {},
     "output_type": "execute_result"
    }
   ],
   "source": [
    "rides['Start date'].iloc[2]"
   ]
  },
  {
   "cell_type": "markdown",
   "metadata": {},
   "source": [
    "### Note that this is no longer a string of dtype \"object\" but rather a datetime64[ns] object"
   ]
  },
  {
   "cell_type": "markdown",
   "metadata": {},
   "source": [
    "### Alternatively we could use:\n",
    "```\n",
    "ride['Start date'] = pd.to_datetime(rides['Start date'], format=\"%Y-%m-%d %H:%M:%S\")\n",
    "```"
   ]
  },
  {
   "cell_type": "markdown",
   "metadata": {},
   "source": [
    "## Perform Timezone-aware arithmetic"
   ]
  },
  {
   "cell_type": "code",
   "execution_count": 8,
   "metadata": {},
   "outputs": [],
   "source": [
    "rides['Duration'] = rides['End date'] - rides['Start date']"
   ]
  },
  {
   "cell_type": "code",
   "execution_count": 9,
   "metadata": {},
   "outputs": [
    {
     "data": {
      "text/plain": [
       "0   0 days 00:03:00\n",
       "1   0 days 00:07:00\n",
       "2   0 days 00:16:00\n",
       "3   0 days 00:08:00\n",
       "4   0 days 00:56:00\n",
       "Name: Duration, dtype: timedelta64[ns]"
      ]
     },
     "execution_count": 9,
     "metadata": {},
     "output_type": "execute_result"
    }
   ],
   "source": [
    "rides['Duration'].head()"
   ]
  },
  {
   "cell_type": "code",
   "execution_count": 10,
   "metadata": {},
   "outputs": [
    {
     "data": {
      "text/plain": [
       "count                       815370\n",
       "mean     0 days 00:05:29.196070495\n",
       "std      0 days 02:05:45.621270716\n",
       "min              -1 days +12:01:00\n",
       "25%                0 days 00:06:00\n",
       "50%                0 days 00:10:00\n",
       "75%                0 days 00:18:00\n",
       "max                1 days 11:00:00\n",
       "Name: Duration, dtype: object"
      ]
     },
     "execution_count": 10,
     "metadata": {},
     "output_type": "execute_result"
    }
   ],
   "source": [
    "rides['Duration'].describe()"
   ]
  },
  {
   "cell_type": "code",
   "execution_count": 11,
   "metadata": {},
   "outputs": [
    {
     "data": {
      "text/plain": [
       "0     180.0\n",
       "1     420.0\n",
       "2     960.0\n",
       "3     480.0\n",
       "4    3360.0\n",
       "Name: Duration, dtype: float64"
      ]
     },
     "execution_count": 11,
     "metadata": {},
     "output_type": "execute_result"
    }
   ],
   "source": [
    "rides.Duration.dt.total_seconds().head()"
   ]
  },
  {
   "cell_type": "code",
   "execution_count": null,
   "metadata": {},
   "outputs": [],
   "source": []
  }
 ],
 "metadata": {
  "kernelspec": {
   "display_name": "Python 3",
   "language": "python",
   "name": "python3"
  },
  "language_info": {
   "codemirror_mode": {
    "name": "ipython",
    "version": 3
   },
   "file_extension": ".py",
   "mimetype": "text/x-python",
   "name": "python",
   "nbconvert_exporter": "python",
   "pygments_lexer": "ipython3",
   "version": "3.7.9"
  }
 },
 "nbformat": 4,
 "nbformat_minor": 4
}
